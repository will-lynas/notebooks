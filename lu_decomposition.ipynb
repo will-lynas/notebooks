{
 "cells": [
  {
   "cell_type": "code",
   "execution_count": 42,
   "metadata": {},
   "outputs": [],
   "source": [
    "import numpy as np\n",
    "\n",
    "np.random.seed(0)\n",
    "np.set_printoptions(precision=2)"
   ]
  },
  {
   "cell_type": "code",
   "execution_count": 46,
   "metadata": {},
   "outputs": [
    {
     "name": "stdout",
     "output_type": "stream",
     "text": [
      "[[6. 1. 3. 4. 9.]\n",
      " [2. 4. 4. 4. 8.]\n",
      " [1. 2. 1. 5. 8.]\n",
      " [4. 3. 8. 3. 1.]\n",
      " [1. 5. 6. 6. 7.]]\n"
     ]
    }
   ],
   "source": [
    "def generate_matrix(n):\n",
    "    M = np.random.randint(low=1, high=10, size=(n,n))\n",
    "    return M.astype(np.float64)\n",
    "\n",
    "A = generate_matrix(5)\n",
    "print(A)"
   ]
  },
  {
   "cell_type": "code",
   "execution_count": 44,
   "metadata": {},
   "outputs": [],
   "source": [
    "def lu(A):\n",
    "    \"\"\"Return the LU decomposition of A, without modifying it.\"\"\"\n",
    "    if not (n := A.shape[0]) == A.shape[1]:\n",
    "        raise ValueError(\"Input matrix must be square.\")\n",
    "\n",
    "    U = np.copy(A)\n",
    "    L = np.identity(n, dtype=np.float64)\n",
    "\n",
    "    for col in range(n-1):\n",
    "        for row in range(col + 1, n):\n",
    "            L[row, col] = U[row, col] / U[col, col]\n",
    "            U[row, col:] -= L[row, col] * U[col, col:]\n",
    "            U[row, col] = 0\n",
    "\n",
    "    return (L, U)"
   ]
  },
  {
   "cell_type": "code",
   "execution_count": 45,
   "metadata": {},
   "outputs": [
    {
     "name": "stdout",
     "output_type": "stream",
     "text": [
      "[[ 1.    0.    0.    0.    0.  ]\n",
      " [ 0.67  1.    0.    0.    0.  ]\n",
      " [ 1.17  1.47  1.    0.    0.  ]\n",
      " [ 1.33  1.25  0.85  1.    0.  ]\n",
      " [ 1.5   0.66 -0.58  9.16  1.  ]]\n",
      "[[ 6.    1.    4.    4.    8.  ]\n",
      " [ 0.    5.33  0.33  2.33  2.67]\n",
      " [ 0.    0.    3.84 -6.09 -6.25]\n",
      " [ 0.    0.    0.   -1.1  -2.72]\n",
      " [ 0.    0.    0.    0.   11.5 ]]\n"
     ]
    }
   ],
   "source": [
    "L, U = lu(A)\n",
    "assert np.allclose(L @ U, A)\n",
    "print(L)\n",
    "print(U)"
   ]
  }
 ],
 "metadata": {
  "kernelspec": {
   "display_name": "venv",
   "language": "python",
   "name": "python3"
  },
  "language_info": {
   "codemirror_mode": {
    "name": "ipython",
    "version": 3
   },
   "file_extension": ".py",
   "mimetype": "text/x-python",
   "name": "python",
   "nbconvert_exporter": "python",
   "pygments_lexer": "ipython3",
   "version": "3.11.0rc1"
  }
 },
 "nbformat": 4,
 "nbformat_minor": 2
}
