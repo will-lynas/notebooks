{
 "cells": [
  {
   "cell_type": "markdown",
   "metadata": {},
   "source": [
    "# LU decomposition\n",
    "My notes for UCL [Math0058 - Computational Methods](https://tbetcke.github.io/math0058_lecture_notes/python_lu_decomposition.html)"
   ]
  },
  {
   "cell_type": "markdown",
   "metadata": {},
   "source": [
    "### Setup"
   ]
  },
  {
   "cell_type": "code",
   "execution_count": 72,
   "metadata": {},
   "outputs": [],
   "source": [
    "import numpy as np\n",
    "import scipy as sp\n",
    "\n",
    "np.random.seed(0)\n",
    "np.set_printoptions(precision=2)"
   ]
  },
  {
   "cell_type": "code",
   "execution_count": 73,
   "metadata": {},
   "outputs": [
    {
     "name": "stdout",
     "output_type": "stream",
     "text": [
      "[[6. 1. 4. 4.]\n",
      " [8. 4. 6. 3.]\n",
      " [5. 8. 7. 9.]\n",
      " [9. 2. 7. 8.]]\n"
     ]
    }
   ],
   "source": [
    "def generate_matrix(n):\n",
    "    M = np.random.randint(low=1, high=10, size=(n,n))\n",
    "    return M.astype(np.float64)\n",
    "\n",
    "A = generate_matrix(4)\n",
    "print(A)"
   ]
  },
  {
   "cell_type": "markdown",
   "metadata": {},
   "source": [
    "### The LU algorithm"
   ]
  },
  {
   "cell_type": "code",
   "execution_count": 74,
   "metadata": {},
   "outputs": [],
   "source": [
    "def lu(A):\n",
    "    \"\"\"Return the LU decomposition of A, without modifying it.\"\"\"\n",
    "    if not (n := A.shape[0]) == A.shape[1]:\n",
    "        raise ValueError(\"Input matrix must be square.\")\n",
    "\n",
    "    U = np.copy(A)\n",
    "    L = np.identity(n, dtype=np.float64)\n",
    "\n",
    "    for col in range(n-1):\n",
    "        for row in range(col + 1, n):\n",
    "            L[row, col] = U[row, col] / U[col, col]\n",
    "            U[row, col:] -= L[row, col] * U[col, col:]\n",
    "            U[row, col] = 0\n",
    "\n",
    "    return (L, U)"
   ]
  },
  {
   "cell_type": "code",
   "execution_count": 75,
   "metadata": {},
   "outputs": [
    {
     "name": "stdout",
     "output_type": "stream",
     "text": [
      "[[1.   0.   0.   0.  ]\n",
      " [1.33 1.   0.   0.  ]\n",
      " [0.83 2.69 1.   0.  ]\n",
      " [1.5  0.19 0.47 1.  ]]\n",
      "[[ 6.    1.    4.    4.  ]\n",
      " [ 0.    2.67  0.67 -2.33]\n",
      " [ 0.    0.    1.87 11.94]\n",
      " [ 0.    0.    0.   -3.13]]\n"
     ]
    }
   ],
   "source": [
    "L, U = lu(A)\n",
    "assert np.allclose(L @ U, A)\n",
    "print(L)\n",
    "print(U)"
   ]
  },
  {
   "cell_type": "markdown",
   "metadata": {},
   "source": [
    "### Speed comparison\n",
    "Obviously we should avoid doing calculation in python at all costs."
   ]
  },
  {
   "cell_type": "code",
   "execution_count": 76,
   "metadata": {},
   "outputs": [],
   "source": [
    "def compare_lu(n):\n",
    "    A = generate_matrix(n)\n",
    "    python_lu = %timeit -q -o lu(A)\n",
    "    scipy_lu = %timeit -q -o sp.linalg.lu(A)\n",
    "    print(f\"Python time: {python_lu}\")\n",
    "    print(f\"Scipy time: {scipy_lu}\")\n",
    "    print(f\"Ratio: {python_lu.best/scipy_lu.best}\")"
   ]
  },
  {
   "cell_type": "markdown",
   "metadata": {},
   "source": [
    "For small `n` our implementation is fine."
   ]
  },
  {
   "cell_type": "code",
   "execution_count": 77,
   "metadata": {},
   "outputs": [
    {
     "name": "stdout",
     "output_type": "stream",
     "text": [
      "Python time: 36.3 µs ± 925 ns per loop (mean ± std. dev. of 7 runs, 10,000 loops each)\n",
      "Scipy time: 17.7 µs ± 641 ns per loop (mean ± std. dev. of 7 runs, 100,000 loops each)\n",
      "Ratio: 2.034737396941132\n"
     ]
    }
   ],
   "source": [
    "compare_lu(5)"
   ]
  },
  {
   "cell_type": "markdown",
   "metadata": {},
   "source": [
    "But for large `n` it is very slow."
   ]
  },
  {
   "cell_type": "code",
   "execution_count": 78,
   "metadata": {},
   "outputs": [
    {
     "name": "stdout",
     "output_type": "stream",
     "text": [
      "Python time: 398 ms ± 8.67 ms per loop (mean ± std. dev. of 7 runs, 1 loop each)\n",
      "Scipy time: 9.28 ms ± 1.05 ms per loop (mean ± std. dev. of 7 runs, 100 loops each)\n",
      "Ratio: 47.221089904729716\n"
     ]
    }
   ],
   "source": [
    "compare_lu(500)"
   ]
  },
  {
   "cell_type": "markdown",
   "metadata": {},
   "source": [
    "### Determinants\n",
    "Once we have found the LU decomposition, it can be used to cheaply find the determinant."
   ]
  },
  {
   "cell_type": "code",
   "execution_count": 79,
   "metadata": {},
   "outputs": [
    {
     "name": "stdout",
     "output_type": "stream",
     "text": [
      "-94.00000000000003\n"
     ]
    }
   ],
   "source": [
    "detA = sp.linalg.det(A)\n",
    "detL = L.diagonal().prod()\n",
    "detU = U.diagonal().prod()\n",
    "assert np.isclose(detA, detL * detU)\n",
    "print(detA)\n"
   ]
  }
 ],
 "metadata": {
  "kernelspec": {
   "display_name": "venv",
   "language": "python",
   "name": "python3"
  },
  "language_info": {
   "codemirror_mode": {
    "name": "ipython",
    "version": 3
   },
   "file_extension": ".py",
   "mimetype": "text/x-python",
   "name": "python",
   "nbconvert_exporter": "python",
   "pygments_lexer": "ipython3",
   "version": "3.11.0rc1"
  }
 },
 "nbformat": 4,
 "nbformat_minor": 2
}
