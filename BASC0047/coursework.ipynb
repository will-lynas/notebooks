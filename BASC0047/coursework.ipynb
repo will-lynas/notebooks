{
 "cells": [
  {
   "cell_type": "code",
   "execution_count": 56,
   "metadata": {},
   "outputs": [],
   "source": [
    "import pandas as pd\n",
    "import numpy as np\n",
    "import random\n",
    "\n",
    "pd.set_option('display.width',1000)"
   ]
  },
  {
   "cell_type": "markdown",
   "metadata": {},
   "source": [
    "## Data generation"
   ]
  },
  {
   "cell_type": "code",
   "execution_count": 104,
   "metadata": {},
   "outputs": [
    {
     "name": "stdout",
     "output_type": "stream",
     "text": [
      "  Name  Weight  Value       address_line_1                          city  postcode   latitude  longitude\n",
      "0    0     9.1      6    15 St Marys Close            North Lincolnshire  DN17 4NP  53.609854  -0.825200\n",
      "1    1     5.4      3           Park Place  Bath and North East Somerset  BS39 4EQ  51.362625  -2.575737\n",
      "2    2     4.6      2  128 Pershore Avenue                      Bradford   BD7 3JE  53.785587  -1.779740\n",
      "3    3     4.6      6         6 Gala Drive                        Slough   SL1 5UB  51.510894  -0.644514\n"
     ]
    }
   ],
   "source": [
    "def generate_weights_and_values(num_items, weight_range, value_range):\n",
    "    weights = np.round(np.random.uniform(*weight_range, num_items), 1)\n",
    "    values = np.random.randint(*value_range, num_items)\n",
    "    return pd.DataFrame({\n",
    "        'Name': [str(i) for i in range(num_items)],\n",
    "        'Weight': weights,\n",
    "        'Value': values\n",
    "    })\n",
    "\n",
    "df_addresses = pd.read_csv(\"full_addresses.csv\")\n",
    "df = generate_weights_and_values(len(df_addresses), (4, 10), (1, 10 + 1))\n",
    "df = df.join(df_addresses)\n",
    "df_20 = df.head(20)\n",
    "\n",
    "print(df_20.head(4))"
   ]
  },
  {
   "cell_type": "markdown",
   "metadata": {},
   "source": [
    "## Genetic Algorithm"
   ]
  },
  {
   "cell_type": "markdown",
   "metadata": {},
   "source": [
    "### Pure python implementation"
   ]
  },
  {
   "cell_type": "code",
   "execution_count": 58,
   "metadata": {},
   "outputs": [],
   "source": [
    "def genetic_algorithm(df, max_weight=30, population_size=100, num_generations=50, mutation_rate=0.5):\n",
    "    weights = df[\"Weight\"].tolist()\n",
    "    values = df[\"Value\"].tolist()\n",
    "    n = len(values)\n",
    "    \n",
    "    # Normalise mutations, so that longer lists dont become more mutated.\n",
    "    mutation_rate /= n\n",
    "\n",
    "    average_weight = sum(weights) / n\n",
    "    expected_items = max_weight / average_weight\n",
    "    bit_flip_probability = expected_items / n\n",
    "\n",
    "    # Initialise the population so that each individual has roughly the correct weight\n",
    "    population = [[1 if random.random() < bit_flip_probability else 0 for _ in range(n)]\n",
    "                  for _ in range(population_size)]\n",
    "    \n",
    "    def get_total_value(individual):\n",
    "        return sum(value if individual[i] else 0 for i, value in enumerate(values))\n",
    "    \n",
    "    def get_total_weight(individual):\n",
    "        return sum(weight if individual[i] else 0 for i, weight in enumerate(weights))\n",
    "\n",
    "    def fitness(individual):\n",
    "        total_weight = get_total_weight(individual)\n",
    "        total_value = get_total_value(individual)\n",
    "        if total_weight > max_weight:\n",
    "            return 0\n",
    "        return total_value\n",
    "\n",
    "    def tournament_selection(population, k=3):\n",
    "        return max(random.sample(population, k), key=fitness)\n",
    "\n",
    "    def crossover(parent1, parent2):\n",
    "        crossover_point = random.randint(1, len(parent1) - 1)\n",
    "        return parent1[:crossover_point] + parent2[crossover_point:], parent2[:crossover_point] + parent1[crossover_point:]\n",
    "\n",
    "    def mutate(individual):\n",
    "        for i in range(len(individual)):\n",
    "            if random.random() < mutation_rate:\n",
    "                individual[i] = 1 - individual[i] # Flip bit\n",
    "        return individual\n",
    "\n",
    "    for _ in range(num_generations):\n",
    "        new_population = []\n",
    "        for _ in range(population_size // 2):\n",
    "            parent1 = tournament_selection(population)\n",
    "            parent2 = tournament_selection(population)\n",
    "            offspring1, offspring2 = crossover(parent1, parent2)\n",
    "            new_population.append(mutate(offspring1))\n",
    "            new_population.append(mutate(offspring2))\n",
    "        population = new_population\n",
    "\n",
    "    best = max(population, key=fitness)\n",
    "    return df[[bool(bit) for bit in best]], get_total_value(best), get_total_weight(best)\n"
   ]
  },
  {
   "cell_type": "code",
   "execution_count": 59,
   "metadata": {},
   "outputs": [],
   "source": [
    "def show_genetic_algorithm(df, n_runs=4,\n",
    "                           population_size=100, num_generations=50, mutation_rate=0.2):\n",
    "    for _ in range(n_runs):\n",
    "        items, value, weight = genetic_algorithm(df, population_size=population_size, num_generations=num_generations, mutation_rate=mutation_rate)\n",
    "        print(f\"Items: {', '.join(items['Name'].tolist())}\")\n",
    "        print(f\"Total weight: {weight:.1f}\")\n",
    "        print(f\"Total value: {value}\")\n",
    "        print()\n"
   ]
  },
  {
   "cell_type": "code",
   "execution_count": 60,
   "metadata": {},
   "outputs": [
    {
     "name": "stdout",
     "output_type": "stream",
     "text": [
      "Items: 2, 6, 8, 9, 16, 17, 19\n",
      "Total weight: 28.4\n",
      "Total value: 29\n",
      "\n",
      "Items: 1, 2, 6, 8, 11, 16, 17, 19\n",
      "Total weight: 29.9\n",
      "Total value: 30\n",
      "\n",
      "Items: 1, 2, 6, 8, 11, 16, 17, 19\n",
      "Total weight: 29.9\n",
      "Total value: 30\n",
      "\n",
      "Items: 1, 6, 8, 9, 16, 17, 19\n",
      "Total weight: 28.6\n",
      "Total value: 29\n",
      "\n"
     ]
    }
   ],
   "source": [
    "show_genetic_algorithm(df_20)"
   ]
  },
  {
   "cell_type": "code",
   "execution_count": 61,
   "metadata": {},
   "outputs": [
    {
     "name": "stdout",
     "output_type": "stream",
     "text": [
      "435 ms ± 28.8 ms per loop (mean ± std. dev. of 7 runs, 1 loop each)\n"
     ]
    }
   ],
   "source": [
    "ga_time_python = %timeit -o genetic_algorithm(df)"
   ]
  },
  {
   "cell_type": "markdown",
   "metadata": {},
   "source": [
    "### Numpy implementation"
   ]
  },
  {
   "cell_type": "code",
   "execution_count": 62,
   "metadata": {},
   "outputs": [],
   "source": [
    "# Rewrite using numpy\n",
    "def genetic_algorithm(df, max_weight=30, population_size=100, num_generations=50, mutation_rate=0.5):\n",
    "    weights = df[\"Weight\"].to_numpy()\n",
    "    values = df[\"Value\"].to_numpy()\n",
    "    n = len(values)\n",
    "    \n",
    "    # Normalise mutations, so that longer lists dont become more mutated.\n",
    "    mutation_rate /= n\n",
    "\n",
    "    average_weight = np.mean(weights)\n",
    "    expected_items = max_weight / average_weight\n",
    "    bit_flip_probability = expected_items / n\n",
    "\n",
    "    # Initialise the population so that each individual has roughly the correct weight\n",
    "    population = np.random.rand(population_size, n) < bit_flip_probability\n",
    "    \n",
    "    def fitness(individual):\n",
    "        total_weight = np.dot(weights, individual)\n",
    "        total_value = np.dot(values, individual)\n",
    "        return total_value if total_weight <= max_weight else 0\n",
    "\n",
    "    def tournament_selection(population, k=3):\n",
    "        return max(random.sample(list(population), k), key=fitness)\n",
    "\n",
    "    def crossover(parent1, parent2):\n",
    "        crossover_point = random.randint(1, n - 1)\n",
    "        offspring1 = np.concatenate([parent1[:crossover_point], parent2[crossover_point:]])\n",
    "        offspring2 = np.concatenate([parent2[:crossover_point], parent1[crossover_point:]])\n",
    "        return offspring1, offspring2\n",
    "\n",
    "    def mutate(individual):\n",
    "        mutation_mask = np.random.rand(n) < mutation_rate\n",
    "        individual[mutation_mask] = 1 - individual[mutation_mask] # Flip bit\n",
    "        return individual\n",
    "\n",
    "    for _ in range(num_generations):\n",
    "        new_population = []\n",
    "        for _ in range(population_size // 2):\n",
    "            parent1 = tournament_selection(population)\n",
    "            parent2 = tournament_selection(population)\n",
    "            offspring1, offspring2 = crossover(parent1, parent2)\n",
    "            new_population.append(mutate(offspring1))\n",
    "            new_population.append(mutate(offspring2))\n",
    "        population = np.array(new_population)\n",
    "\n",
    "    best = max(population, key=fitness)\n",
    "    best_items = df.iloc[best.astype(bool)]\n",
    "    return best_items, np.dot(values, best), np.dot(weights, best)"
   ]
  },
  {
   "cell_type": "code",
   "execution_count": 63,
   "metadata": {},
   "outputs": [
    {
     "name": "stdout",
     "output_type": "stream",
     "text": [
      "200 ms ± 3.04 ms per loop (mean ± std. dev. of 7 runs, 1 loop each)\n",
      "2.14x faster\n"
     ]
    }
   ],
   "source": [
    "# Not much faster with 200 items, but gets significantly faster with thousands of items.\n",
    "ga_time_numpy = %timeit -o genetic_algorithm(df)\n",
    "print(f\"{ga_time_python.best/ga_time_numpy.best:.2f}x faster\")"
   ]
  },
  {
   "cell_type": "markdown",
   "metadata": {},
   "source": [
    "### Mutation rate tests"
   ]
  },
  {
   "cell_type": "code",
   "execution_count": 64,
   "metadata": {},
   "outputs": [
    {
     "name": "stdout",
     "output_type": "stream",
     "text": [
      "Mutation rate: 0      Max weight: 30.0  Average value: 37.0\n",
      "Mutation rate: 0.001  Max weight: 29.8  Average value: 40.0\n",
      "Mutation rate: 0.005  Max weight: 30.0  Average value: 39.2\n",
      "Mutation rate: 0.01   Max weight: 30.0  Average value: 39.0\n",
      "Mutation rate: 0.05   Max weight: 30.0  Average value: 38.7\n",
      "Mutation rate: 0.1    Max weight: 29.9  Average value: 40.5\n",
      "Mutation rate: 0.5    Max weight: 29.8  Average value: 48.1\n",
      "Mutation rate: 1      Max weight: 29.9  Average value: 44.2\n",
      "Mutation rate: 5      Max weight: 616.8  Average value: 290.8\n",
      "Mutation rate: 10     Max weight: 662.1  Average value: 309.3\n",
      "Mutation rate: 50     Max weight: 617.8  Average value: 315.6\n",
      "Mutation rate: 100    Max weight: 645.8  Average value: 316.9\n"
     ]
    }
   ],
   "source": [
    "n_runs = 10\n",
    "for mutation_rate in (0, 0.001, 0.005, 0.01, 0.05, 0.1, 0.5, 1, 5, 10, 50, 100):\n",
    "    _, values, weights = list(zip(*[genetic_algorithm(df, mutation_rate=mutation_rate) for _ in range(n_runs)]))\n",
    "    print(f\"Mutation rate: {mutation_rate}\".ljust(22) + \n",
    "        f\"Max weight: {max(weights):.1f}  \"\n",
    "        f\"Average value: {sum(values)/n_runs:.1f}\")"
   ]
  },
  {
   "cell_type": "markdown",
   "metadata": {},
   "source": [
    "- Somewhere between the mutation rates of 1 and 5, every member of the population becomes overweight.\n",
    "- ~0.5 looks optimal."
   ]
  },
  {
   "cell_type": "markdown",
   "metadata": {},
   "source": [
    "### Actual Usage"
   ]
  },
  {
   "cell_type": "code",
   "execution_count": 113,
   "metadata": {},
   "outputs": [
    {
     "name": "stdout",
     "output_type": "stream",
     "text": [
      "Total weight: 29.8. Total value: 40\n",
      "\n",
      "   Name  Weight  Value                address_line_1                   city  postcode   latitude  longitude\n",
      "3     3     4.6      6                  6 Gala Drive                 Slough   SL1 5UB  51.510894  -0.644514\n",
      "4     4     5.5      6          Highways, Broad Lane       Stockton-on-Tees  TS16 9HJ  54.520799  -1.347180\n",
      "12   12     9.1     10            34 Goldring Avenue             Sunderland   DH5 9FR  54.826545  -1.463713\n",
      "13   13     5.2     10  1 The Mews, 17 Brookley Road              Redbridge   IG8 0UQ  51.609789   0.021329\n",
      "18   18     5.4      8      Hughfield, Burradon Road  Basingstoke and Deane  RG21 7SG  51.265373  -1.098130\n"
     ]
    }
   ],
   "source": [
    "chosen_items, total_value, total_weight = genetic_algorithm(df_20)\n",
    "print(f\"Total weight: {total_weight:.1f}. Total value: {total_value}\")\n",
    "print()\n",
    "print(chosen_items)"
   ]
  }
 ],
 "metadata": {
  "kernelspec": {
   "display_name": "venv",
   "language": "python",
   "name": "python3"
  },
  "language_info": {
   "codemirror_mode": {
    "name": "ipython",
    "version": 3
   },
   "file_extension": ".py",
   "mimetype": "text/x-python",
   "name": "python",
   "nbconvert_exporter": "python",
   "pygments_lexer": "ipython3",
   "version": "3.11.0rc1"
  }
 },
 "nbformat": 4,
 "nbformat_minor": 2
}
