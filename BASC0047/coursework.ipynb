{
 "cells": [
  {
   "cell_type": "code",
   "execution_count": 6,
   "metadata": {},
   "outputs": [
    {
     "name": "stdout",
     "output_type": "stream",
     "text": [
      "     Item    Weight     Value\n",
      "0  item 0  5.939322  4.914473\n",
      "1  item 1  7.436704  4.196634\n",
      "2  item 2  6.424870  2.845917\n",
      "3  item 3  5.903949  4.122117\n"
     ]
    }
   ],
   "source": [
    "import pandas as pd\n",
    "import numpy as np\n",
    "\n",
    "np.random.seed(0)\n",
    "\n",
    "def generate_item_df(num_items = 20, weight_range = (1, 10), value_range = (1, 5)):\n",
    "    weights = np.random.uniform(*weight_range, num_items)\n",
    "    values = np.random.uniform(*value_range, num_items)\n",
    "    return pd.DataFrame({\n",
    "        'Item': [f'item {i}' for i in range(num_items)],\n",
    "        'Weight': weights,\n",
    "        'Value': values\n",
    "    })\n",
    "\n",
    "df = generate_item_df()\n",
    "print(df.head(4))"
   ]
  }
 ],
 "metadata": {
  "kernelspec": {
   "display_name": "venv",
   "language": "python",
   "name": "python3"
  },
  "language_info": {
   "codemirror_mode": {
    "name": "ipython",
    "version": 3
   },
   "file_extension": ".py",
   "mimetype": "text/x-python",
   "name": "python",
   "nbconvert_exporter": "python",
   "pygments_lexer": "ipython3",
   "version": "3.11.0rc1"
  }
 },
 "nbformat": 4,
 "nbformat_minor": 2
}
