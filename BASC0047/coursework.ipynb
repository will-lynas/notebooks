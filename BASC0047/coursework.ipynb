{
 "cells": [
  {
   "cell_type": "code",
   "execution_count": 234,
   "metadata": {},
   "outputs": [
    {
     "name": "stdout",
     "output_type": "stream",
     "text": [
      "  Name    Weight     Value\n",
      "0    0  3.331509  0.150684\n",
      "1    1  4.279698  0.071599\n",
      "2    2  7.019322  0.955734\n",
      "3    3  7.887609  0.511730\n"
     ]
    }
   ],
   "source": [
    "import pandas as pd\n",
    "import numpy as np\n",
    "import random\n",
    "\n",
    "def generate_item_df(num_items = 20, weight_range = (0, 10), value_range = (0, 1)):\n",
    "    weights = np.random.uniform(*weight_range, num_items)\n",
    "    values = np.random.uniform(*value_range, num_items)\n",
    "    return pd.DataFrame({\n",
    "        'Name': [str(i) for i in range(num_items)],\n",
    "        'Weight': weights,\n",
    "        'Value': values\n",
    "    })\n",
    "\n",
    "df = generate_item_df()\n",
    "print(df.head(4))"
   ]
  },
  {
   "cell_type": "code",
   "execution_count": 235,
   "metadata": {},
   "outputs": [],
   "source": [
    "def genetic_algorithm(df, max_weight=30, population_size=100, num_generations=50, mutation_rate=0.2):\n",
    "    weights = df[\"Weight\"].tolist()\n",
    "    values = df[\"Value\"].tolist()\n",
    "    n = len(values)\n",
    "    \n",
    "    # Normalise mutations, so that longer lists dont become more mutated.\n",
    "    mutation_rate /= n\n",
    "\n",
    "    average_weight = sum(weights) / n\n",
    "    expected_items = max_weight / average_weight\n",
    "    bit_flip_probability = expected_items / n\n",
    "\n",
    "    # Initialise the population so that each individual has roughly the correct weight\n",
    "    population = [[1 if random.random() < bit_flip_probability else 0 for _ in range(n)]\n",
    "                  for _ in range(population_size)]\n",
    "    \n",
    "    def get_total_value(individual):\n",
    "        return sum(value if individual[i] else 0 for i, value in enumerate(values))\n",
    "    \n",
    "    def get_total_weight(individual):\n",
    "        return sum(weight if individual[i] else 0 for i, weight in enumerate(weights))\n",
    "\n",
    "    def fitness(individual):\n",
    "        total_weight = get_total_weight(individual)\n",
    "        total_value = get_total_value(individual)\n",
    "        if total_weight > max_weight:\n",
    "            return 0\n",
    "        return total_value\n",
    "\n",
    "    def tournament_selection(population, k=3):\n",
    "        return max(random.sample(population, k), key=fitness)\n",
    "\n",
    "    def crossover(parent1, parent2):\n",
    "        crossover_point = random.randint(1, len(parent1) - 1)\n",
    "        return parent1[:crossover_point] + parent2[crossover_point:], parent2[:crossover_point] + parent1[crossover_point:]\n",
    "\n",
    "    def mutate(individual):\n",
    "        for i in range(len(individual)):\n",
    "            if random.random() < mutation_rate:\n",
    "                individual[i] = 1 - individual[i] # Flip bit\n",
    "        return individual\n",
    "\n",
    "    for _ in range(num_generations):\n",
    "        new_population = []\n",
    "        for _ in range(population_size // 2):\n",
    "            parent1 = tournament_selection(population)\n",
    "            parent2 = tournament_selection(population)\n",
    "            offspring1, offspring2 = crossover(parent1, parent2)\n",
    "            new_population.append(mutate(offspring1))\n",
    "            new_population.append(mutate(offspring2))\n",
    "        population = new_population\n",
    "\n",
    "    best = max(population, key=fitness)\n",
    "    return df[[bool(bit) for bit in best]].copy(), get_total_value(best), get_total_weight(best)\n"
   ]
  },
  {
   "cell_type": "code",
   "execution_count": 236,
   "metadata": {},
   "outputs": [],
   "source": [
    "def show_genetic_algorithm(df, ga_func=genetic_algorithm, n_runs=4,\n",
    "                           population_size=100, num_generations=50, mutation_rate=0.2):\n",
    "    for _ in range(n_runs):\n",
    "        items, value, weight = ga_func(df, population_size=population_size, num_generations=num_generations, mutation_rate=mutation_rate)\n",
    "        print(f\"Items: {', '.join(items['Name'].tolist())}\")\n",
    "        print(f\"Total weight: {weight:.2f}\")\n",
    "        print(f\"Total value: {value:.2f}\")\n",
    "        print()\n"
   ]
  },
  {
   "cell_type": "code",
   "execution_count": 237,
   "metadata": {},
   "outputs": [
    {
     "name": "stdout",
     "output_type": "stream",
     "text": [
      "Items: 2, 4, 6, 10, 13, 14, 18\n",
      "Total weight: 29.87\n",
      "Total value: 4.90\n",
      "\n",
      "Items: 2, 6, 7, 10, 13, 14, 15, 18\n",
      "Total weight: 28.67\n",
      "Total value: 4.91\n",
      "\n",
      "Items: 2, 8, 10, 13, 14, 15, 18\n",
      "Total weight: 29.18\n",
      "Total value: 4.69\n",
      "\n",
      "Items: 2, 4, 6, 10, 13, 14, 18\n",
      "Total weight: 29.87\n",
      "Total value: 4.90\n",
      "\n",
      "65.8 ms ± 1.1 ms per loop (mean ± std. dev. of 7 runs, 10 loops each)\n"
     ]
    }
   ],
   "source": [
    "# Test with the original 20 items\n",
    "show_genetic_algorithm(df)\n",
    "%timeit genetic_algorithm(df)"
   ]
  },
  {
   "cell_type": "code",
   "execution_count": 238,
   "metadata": {},
   "outputs": [
    {
     "name": "stdout",
     "output_type": "stream",
     "text": [
      "Items: 50, 79, 88, 107, 143, 184, 257, 259, 329, 453, 473, 476, 530, 549, 621, 678, 684, 739, 766, 847, 889, 902, 998\n",
      "Total weight: 29.87\n",
      "Total value: 16.74\n",
      "\n",
      "Items: 38, 47, 110, 145, 178, 179, 192, 204, 259, 282, 358, 359, 395, 422, 476, 496, 506, 627, 645, 652, 684, 686, 740, 765, 782, 895, 910, 915, 947, 949, 950, 967\n",
      "Total weight: 30.00\n",
      "Total value: 23.62\n",
      "\n",
      "Items: 5, 79, 80, 155, 181, 190, 204, 259, 285, 328, 358, 402, 473, 476, 524, 530, 603, 638, 645, 671, 740, 794, 864, 902, 932, 977\n",
      "Total weight: 30.00\n",
      "Total value: 18.65\n",
      "\n",
      "Items: 143, 151, 220, 222, 225, 296, 311, 394, 447, 473, 476, 556, 634, 652, 657, 664, 686, 740, 755, 902, 932, 961, 979\n",
      "Total weight: 29.73\n",
      "Total value: 16.89\n",
      "\n",
      "2.28 s ± 32 ms per loop (mean ± std. dev. of 7 runs, 1 loop each)\n"
     ]
    }
   ],
   "source": [
    "# Test with 1000 items - slow\n",
    "df_1000 = generate_item_df(1000)\n",
    "show_genetic_algorithm(df_1000)\n",
    "timeit_1000 = %timeit -o genetic_algorithm(df_1000)"
   ]
  },
  {
   "cell_type": "code",
   "execution_count": 239,
   "metadata": {},
   "outputs": [],
   "source": [
    "# Rewrite using numpy\n",
    "def genetic_algorithm_np(df, max_weight=30, population_size=100, num_generations=50, mutation_rate=0.2):\n",
    "    weights = df[\"Weight\"].to_numpy()\n",
    "    values = df[\"Value\"].to_numpy()\n",
    "    n = len(values)\n",
    "    \n",
    "    # Normalise mutations, so that longer lists dont become more mutated.\n",
    "    mutation_rate /= n\n",
    "\n",
    "    average_weight = np.mean(weights)\n",
    "    expected_items = max_weight / average_weight\n",
    "    bit_flip_probability = expected_items / n\n",
    "\n",
    "    # Initialise the population so that each individual has roughly the correct weight\n",
    "    population = np.random.rand(population_size, n) < bit_flip_probability\n",
    "    \n",
    "    def fitness(individual):\n",
    "        total_weight = np.dot(weights, individual)\n",
    "        total_value = np.dot(values, individual)\n",
    "        return total_value if total_weight <= max_weight else 0\n",
    "\n",
    "    def tournament_selection(population, k=3):\n",
    "        return max(random.sample(list(population), k), key=fitness)\n",
    "\n",
    "    def crossover(parent1, parent2):\n",
    "        crossover_point = random.randint(1, n - 1)\n",
    "        offspring1 = np.concatenate([parent1[:crossover_point], parent2[crossover_point:]])\n",
    "        offspring2 = np.concatenate([parent2[:crossover_point], parent1[crossover_point:]])\n",
    "        return offspring1, offspring2\n",
    "\n",
    "    def mutate(individual):\n",
    "        mutation_mask = np.random.rand(n) < mutation_rate\n",
    "        individual[mutation_mask] = 1 - individual[mutation_mask] # Flip bit\n",
    "        return individual\n",
    "\n",
    "    for _ in range(num_generations):\n",
    "        new_population = []\n",
    "        for _ in range(population_size // 2):\n",
    "            parent1 = tournament_selection(population)\n",
    "            parent2 = tournament_selection(population)\n",
    "            offspring1, offspring2 = crossover(parent1, parent2)\n",
    "            new_population.append(mutate(offspring1))\n",
    "            new_population.append(mutate(offspring2))\n",
    "        population = np.array(new_population)\n",
    "\n",
    "    best = max(population, key=fitness)\n",
    "    best_items = df.iloc[best.astype(bool)].copy()\n",
    "    return best_items, np.dot(values, best), np.dot(weights, best)"
   ]
  },
  {
   "cell_type": "code",
   "execution_count": 240,
   "metadata": {},
   "outputs": [
    {
     "name": "stdout",
     "output_type": "stream",
     "text": [
      "Items: 30, 44, 50, 80, 143, 145, 179, 284, 330, 351, 409, 422, 437, 450, 466, 603, 619, 722, 724, 789, 878, 910, 911, 932, 940, 979, 998\n",
      "Total weight: 29.93\n",
      "Total value: 20.64\n",
      "\n",
      "Items: 38, 73, 80, 109, 143, 178, 204, 288, 329, 447, 496, 530, 634, 674, 686, 744, 748, 753, 783, 899, 902, 904, 915, 940, 950\n",
      "Total weight: 29.74\n",
      "Total value: 18.96\n",
      "\n",
      "Items: 30, 44, 107, 109, 123, 192, 202, 259, 323, 329, 409, 443, 500, 618, 627, 652, 658, 674, 748, 765, 782, 786, 813, 924, 948, 998\n",
      "Total weight: 29.97\n",
      "Total value: 18.78\n",
      "\n",
      "Items: 49, 107, 133, 140, 178, 204, 305, 358, 361, 383, 444, 473, 549, 551, 574, 632, 686, 741, 766, 793, 815, 878, 902, 921, 947\n",
      "Total weight: 29.89\n",
      "Total value: 18.00\n",
      "\n",
      "232 ms ± 15.2 ms per loop (mean ± std. dev. of 7 runs, 1 loop each)\n",
      "10.32x faster\n"
     ]
    }
   ],
   "source": [
    "# Test numpy version - 10x faster\n",
    "show_genetic_algorithm(df_1000, ga_func=genetic_algorithm_np)\n",
    "timeit_1000_fast = %timeit -o genetic_algorithm_np(df_1000)\n",
    "print(f\"{timeit_1000.best/timeit_1000_fast.best:.2f}x faster\")"
   ]
  }
 ],
 "metadata": {
  "kernelspec": {
   "display_name": "venv",
   "language": "python",
   "name": "python3"
  },
  "language_info": {
   "codemirror_mode": {
    "name": "ipython",
    "version": 3
   },
   "file_extension": ".py",
   "mimetype": "text/x-python",
   "name": "python",
   "nbconvert_exporter": "python",
   "pygments_lexer": "ipython3",
   "version": "3.11.0rc1"
  }
 },
 "nbformat": 4,
 "nbformat_minor": 2
}
