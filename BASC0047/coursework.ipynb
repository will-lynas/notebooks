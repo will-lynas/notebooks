{
 "cells": [
  {
   "cell_type": "code",
   "execution_count": 234,
   "metadata": {},
   "outputs": [
    {
     "name": "stdout",
     "output_type": "stream",
     "text": [
      "  Name    Weight     Value\n",
      "0    0  3.331509  0.150684\n",
      "1    1  4.279698  0.071599\n",
      "2    2  7.019322  0.955734\n",
      "3    3  7.887609  0.511730\n"
     ]
    }
   ],
   "source": [
    "import pandas as pd\n",
    "import numpy as np\n",
    "import random\n",
    "\n",
    "def generate_item_df(num_items = 20, weight_range = (0, 10), value_range = (0, 1)):\n",
    "    weights = np.random.uniform(*weight_range, num_items)\n",
    "    values = np.random.uniform(*value_range, num_items)\n",
    "    return pd.DataFrame({\n",
    "        'Name': [str(i) for i in range(num_items)],\n",
    "        'Weight': weights,\n",
    "        'Value': values\n",
    "    })\n",
    "\n",
    "df = generate_item_df()\n",
    "print(df.head(4))"
   ]
  },
  {
   "cell_type": "code",
   "execution_count": 235,
   "metadata": {},
   "outputs": [],
   "source": [
    "def genetic_algorithm(df, max_weight=30, population_size=100, num_generations=50, mutation_rate=0.2):\n",
    "    weights = df[\"Weight\"].tolist()\n",
    "    values = df[\"Value\"].tolist()\n",
    "    n = len(values)\n",
    "    \n",
    "    # Normalise mutations, so that longer lists dont become more mutated.\n",
    "    mutation_rate /= n\n",
    "\n",
    "    average_weight = sum(weights) / n\n",
    "    expected_items = max_weight / average_weight\n",
    "    bit_flip_probability = expected_items / n\n",
    "\n",
    "    # Initialise the population so that each individual has roughly the correct weight\n",
    "    population = [[1 if random.random() < bit_flip_probability else 0 for _ in range(n)]\n",
    "                  for _ in range(population_size)]\n",
    "    \n",
    "    def get_total_value(individual):\n",
    "        return sum(value if individual[i] else 0 for i, value in enumerate(values))\n",
    "    \n",
    "    def get_total_weight(individual):\n",
    "        return sum(weight if individual[i] else 0 for i, weight in enumerate(weights))\n",
    "\n",
    "    def fitness(individual):\n",
    "        total_weight = get_total_weight(individual)\n",
    "        total_value = get_total_value(individual)\n",
    "        if total_weight > max_weight:\n",
    "            return 0\n",
    "        return total_value\n",
    "\n",
    "    def tournament_selection(population, k=3):\n",
    "        return max(random.sample(population, k), key=fitness)\n",
    "\n",
    "    def crossover(parent1, parent2):\n",
    "        crossover_point = random.randint(1, len(parent1) - 1)\n",
    "        return parent1[:crossover_point] + parent2[crossover_point:], parent2[:crossover_point] + parent1[crossover_point:]\n",
    "\n",
    "    def mutate(individual):\n",
    "        for i in range(len(individual)):\n",
    "            if random.random() < mutation_rate:\n",
    "                individual[i] = 1 - individual[i] # Flip bit\n",
    "        return individual\n",
    "\n",
    "    for _ in range(num_generations):\n",
    "        new_population = []\n",
    "        for _ in range(population_size // 2):\n",
    "            parent1 = tournament_selection(population)\n",
    "            parent2 = tournament_selection(population)\n",
    "            offspring1, offspring2 = crossover(parent1, parent2)\n",
    "            new_population.append(mutate(offspring1))\n",
    "            new_population.append(mutate(offspring2))\n",
    "        population = new_population\n",
    "\n",
    "    best = max(population, key=fitness)\n",
    "    return df[[bool(bit) for bit in best]].copy(), get_total_value(best), get_total_weight(best)\n"
   ]
  },
  {
   "cell_type": "code",
   "execution_count": 236,
   "metadata": {},
   "outputs": [],
   "source": [
    "def show_genetic_algorithm(df, ga_func=genetic_algorithm, n_runs=4,\n",
    "                           population_size=100, num_generations=50, mutation_rate=0.2):\n",
    "    for _ in range(n_runs):\n",
    "        items, value, weight = ga_func(df, population_size=population_size, num_generations=num_generations, mutation_rate=mutation_rate)\n",
    "        print(f\"Items: {', '.join(items['Name'].tolist())}\")\n",
    "        print(f\"Total weight: {weight:.2f}\")\n",
    "        print(f\"Total value: {value:.2f}\")\n",
    "        print()\n"
   ]
  },
  {
   "cell_type": "code",
   "execution_count": 237,
   "metadata": {},
   "outputs": [
    {
     "name": "stdout",
     "output_type": "stream",
     "text": [
      "Items: 2, 4, 6, 10, 13, 14, 18\n",
      "Total weight: 29.87\n",
      "Total value: 4.90\n",
      "\n",
      "Items: 2, 6, 7, 10, 13, 14, 15, 18\n",
      "Total weight: 28.67\n",
      "Total value: 4.91\n",
      "\n",
      "Items: 2, 8, 10, 13, 14, 15, 18\n",
      "Total weight: 29.18\n",
      "Total value: 4.69\n",
      "\n",
      "Items: 2, 4, 6, 10, 13, 14, 18\n",
      "Total weight: 29.87\n",
      "Total value: 4.90\n",
      "\n",
      "65.8 ms ± 1.1 ms per loop (mean ± std. dev. of 7 runs, 10 loops each)\n"
     ]
    }
   ],
   "source": [
    "# Test with the original 20 items\n",
    "show_genetic_algorithm(df)\n",
    "%timeit genetic_algorithm(df)"
   ]
  },
  {
   "cell_type": "code",
   "execution_count": 238,
   "metadata": {},
   "outputs": [
    {
     "name": "stdout",
     "output_type": "stream",
     "text": [
      "Items: 50, 79, 88, 107, 143, 184, 257, 259, 329, 453, 473, 476, 530, 549, 621, 678, 684, 739, 766, 847, 889, 902, 998\n",
      "Total weight: 29.87\n",
      "Total value: 16.74\n",
      "\n",
      "Items: 38, 47, 110, 145, 178, 179, 192, 204, 259, 282, 358, 359, 395, 422, 476, 496, 506, 627, 645, 652, 684, 686, 740, 765, 782, 895, 910, 915, 947, 949, 950, 967\n",
      "Total weight: 30.00\n",
      "Total value: 23.62\n",
      "\n",
      "Items: 5, 79, 80, 155, 181, 190, 204, 259, 285, 328, 358, 402, 473, 476, 524, 530, 603, 638, 645, 671, 740, 794, 864, 902, 932, 977\n",
      "Total weight: 30.00\n",
      "Total value: 18.65\n",
      "\n",
      "Items: 143, 151, 220, 222, 225, 296, 311, 394, 447, 473, 476, 556, 634, 652, 657, 664, 686, 740, 755, 902, 932, 961, 979\n",
      "Total weight: 29.73\n",
      "Total value: 16.89\n",
      "\n",
      "2.28 s ± 32 ms per loop (mean ± std. dev. of 7 runs, 1 loop each)\n"
     ]
    }
   ],
   "source": [
    "# Test with 1000 items - slow\n",
    "df_1000 = generate_item_df(1000)\n",
    "show_genetic_algorithm(df_1000)\n",
    "timeit_1000 = %timeit -o genetic_algorithm(df_1000)"
   ]
  },
  {
   "cell_type": "code",
   "execution_count": 241,
   "metadata": {},
   "outputs": [],
   "source": [
    "# Rewrite using numpy\n",
    "def genetic_algorithm_np(df, max_weight=30, population_size=100, num_generations=50, mutation_rate=0.2):\n",
    "    weights = df[\"Weight\"].to_numpy()\n",
    "    values = df[\"Value\"].to_numpy()\n",
    "    n = len(values)\n",
    "    \n",
    "    # Normalise mutations, so that longer lists dont become more mutated.\n",
    "    mutation_rate /= n\n",
    "\n",
    "    average_weight = np.mean(weights)\n",
    "    expected_items = max_weight / average_weight\n",
    "    bit_flip_probability = expected_items / n\n",
    "\n",
    "    # Initialise the population so that each individual has roughly the correct weight\n",
    "    population = np.random.rand(population_size, n) < bit_flip_probability\n",
    "    \n",
    "    def fitness(individual):\n",
    "        total_weight = np.dot(weights, individual)\n",
    "        total_value = np.dot(values, individual)\n",
    "        return total_value if total_weight <= max_weight else 0\n",
    "\n",
    "    def tournament_selection(population, k=3):\n",
    "        return max(random.sample(list(population), k), key=fitness)\n",
    "\n",
    "    def crossover(parent1, parent2):\n",
    "        crossover_point = random.randint(1, n - 1)\n",
    "        offspring1 = np.concatenate([parent1[:crossover_point], parent2[crossover_point:]])\n",
    "        offspring2 = np.concatenate([parent2[:crossover_point], parent1[crossover_point:]])\n",
    "        return offspring1, offspring2\n",
    "\n",
    "    def mutate(individual):\n",
    "        mutation_mask = np.random.rand(n) < mutation_rate\n",
    "        individual[mutation_mask] = 1 - individual[mutation_mask] # Flip bit\n",
    "        return individual\n",
    "\n",
    "    for _ in range(num_generations):\n",
    "        new_population = []\n",
    "        for _ in range(population_size // 2):\n",
    "            parent1 = tournament_selection(population)\n",
    "            parent2 = tournament_selection(population)\n",
    "            offspring1, offspring2 = crossover(parent1, parent2)\n",
    "            new_population.append(mutate(offspring1))\n",
    "            new_population.append(mutate(offspring2))\n",
    "        population = np.array(new_population)\n",
    "\n",
    "    best = max(population, key=fitness)\n",
    "    best_items = df.iloc[best.astype(bool)].copy()\n",
    "    return best_items, np.dot(values, best), np.dot(weights, best)"
   ]
  },
  {
   "cell_type": "code",
   "execution_count": 242,
   "metadata": {},
   "outputs": [
    {
     "name": "stdout",
     "output_type": "stream",
     "text": [
      "Items: 30, 44, 48, 179, 222, 296, 329, 345, 473, 546, 549, 614, 634, 638, 645, 766, 770, 782, 877, 924, 950\n",
      "Total weight: 29.90\n",
      "Total value: 16.23\n",
      "\n",
      "Items: 30, 80, 107, 251, 259, 295, 329, 343, 359, 383, 513, 652, 686, 748, 765, 782, 789, 819, 850, 932, 977\n",
      "Total weight: 29.94\n",
      "Total value: 17.05\n",
      "\n",
      "Items: 46, 47, 80, 109, 178, 235, 256, 257, 310, 359, 422, 443, 513, 519, 538, 619, 634, 674, 741, 748, 915, 920, 979\n",
      "Total weight: 29.98\n",
      "Total value: 16.63\n",
      "\n",
      "Items: 143, 145, 157, 178, 269, 286, 318, 473, 476, 504, 551, 603, 638, 686, 707, 752, 768, 813, 865, 905, 930, 948, 972\n",
      "Total weight: 29.88\n",
      "Total value: 15.71\n",
      "\n",
      "232 ms ± 1.45 ms per loop (mean ± std. dev. of 7 runs, 1 loop each)\n",
      "9.76x faster\n"
     ]
    }
   ],
   "source": [
    "# Test numpy version - 10x faster\n",
    "show_genetic_algorithm(df_1000, ga_func=genetic_algorithm_np)\n",
    "timeit_1000_fast = %timeit -o genetic_algorithm_np(df_1000)\n",
    "print(f\"{timeit_1000.best/timeit_1000_fast.best:.2f}x faster\")"
   ]
  },
  {
   "cell_type": "code",
   "execution_count": 260,
   "metadata": {},
   "outputs": [
    {
     "name": "stdout",
     "output_type": "stream",
     "text": [
      "Mutation rate: 0      Max weight: 29.995  Average value: 10.640\n",
      "Mutation rate: 0.001  Max weight: 29.950  Average value: 10.663\n",
      "Mutation rate: 0.005  Max weight: 29.984  Average value: 11.777\n",
      "Mutation rate: 0.01   Max weight: 29.964  Average value: 12.320\n",
      "Mutation rate: 0.05   Max weight: 29.972  Average value: 12.791\n",
      "Mutation rate: 0.1    Max weight: 29.984  Average value: 16.518\n",
      "Mutation rate: 0.5    Max weight: 29.940  Average value: 20.379\n",
      "Mutation rate: 1      Max weight: 29.901  Average value: 19.782\n",
      "Mutation rate: 5      Max weight: 1048.483  Average value: 102.258\n",
      "Mutation rate: 10     Max weight: 1681.427  Average value: 160.254\n",
      "Mutation rate: 50     Max weight: 2513.048  Average value: 251.938\n",
      "Mutation rate: 100    Max weight: 2550.751  Average value: 248.587\n"
     ]
    }
   ],
   "source": [
    "# Try different mutation rates\n",
    "n_runs = 10\n",
    "for mutation_rate in (0, 0.001, 0.005, 0.01, 0.05, 0.1, 0.5, 1, 5, 10, 50, 100):\n",
    "    _, values, weights = list(zip(*[genetic_algorithm_np(df_1000, mutation_rate=mutation_rate) for _ in range(n_runs)]))\n",
    "    print(f\"Mutation rate: {mutation_rate}\".ljust(22) + \n",
    "        f\"Max weight: {max(weights):.3f}  \"\n",
    "        f\"Average value: {sum(values)/n_runs:.3f}\")"
   ]
  },
  {
   "cell_type": "markdown",
   "metadata": {},
   "source": [
    "- It looks like somewhere between the mutation rates of 1 and 5 (expected flips per individual), every member of the population becomes overweight.\n",
    "- 0.5 - 1 looks optimal (for n = 1000 at least)."
   ]
  }
 ],
 "metadata": {
  "kernelspec": {
   "display_name": "venv",
   "language": "python",
   "name": "python3"
  },
  "language_info": {
   "codemirror_mode": {
    "name": "ipython",
    "version": 3
   },
   "file_extension": ".py",
   "mimetype": "text/x-python",
   "name": "python",
   "nbconvert_exporter": "python",
   "pygments_lexer": "ipython3",
   "version": "3.11.0rc1"
  }
 },
 "nbformat": 4,
 "nbformat_minor": 2
}
