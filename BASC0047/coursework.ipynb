{
 "cells": [
  {
   "cell_type": "code",
   "execution_count": 308,
   "metadata": {},
   "outputs": [
    {
     "name": "stdout",
     "output_type": "stream",
     "text": [
      "  Name  Weight  Value\n",
      "0    0     4.3      1\n",
      "1    1     8.6      1\n",
      "2    2     1.9      4\n",
      "3    3     2.9      1\n"
     ]
    }
   ],
   "source": [
    "import pandas as pd\n",
    "import numpy as np\n",
    "import random\n",
    "\n",
    "def generate_item_df(num_items = 20, weight_range = (0, 10), value_range = (1, 5 + 1)):\n",
    "    weights = np.round(np.random.uniform(*weight_range, num_items), 1)\n",
    "    values = np.random.randint(*value_range, num_items)\n",
    "    return pd.DataFrame({\n",
    "        'Name': [str(i) for i in range(num_items)],\n",
    "        'Weight': weights,\n",
    "        'Value': values\n",
    "    })\n",
    "\n",
    "df = generate_item_df()\n",
    "print(df.head(4))"
   ]
  },
  {
   "cell_type": "code",
   "execution_count": 309,
   "metadata": {},
   "outputs": [],
   "source": [
    "def genetic_algorithm(df, max_weight=30, population_size=100, num_generations=50, mutation_rate=0.5):\n",
    "    weights = df[\"Weight\"].tolist()\n",
    "    values = df[\"Value\"].tolist()\n",
    "    n = len(values)\n",
    "    \n",
    "    # Normalise mutations, so that longer lists dont become more mutated.\n",
    "    mutation_rate /= n\n",
    "\n",
    "    average_weight = sum(weights) / n\n",
    "    expected_items = max_weight / average_weight\n",
    "    bit_flip_probability = expected_items / n\n",
    "\n",
    "    # Initialise the population so that each individual has roughly the correct weight\n",
    "    population = [[1 if random.random() < bit_flip_probability else 0 for _ in range(n)]\n",
    "                  for _ in range(population_size)]\n",
    "    \n",
    "    def get_total_value(individual):\n",
    "        return sum(value if individual[i] else 0 for i, value in enumerate(values))\n",
    "    \n",
    "    def get_total_weight(individual):\n",
    "        return sum(weight if individual[i] else 0 for i, weight in enumerate(weights))\n",
    "\n",
    "    def fitness(individual):\n",
    "        total_weight = get_total_weight(individual)\n",
    "        total_value = get_total_value(individual)\n",
    "        if total_weight > max_weight:\n",
    "            return 0\n",
    "        return total_value\n",
    "\n",
    "    def tournament_selection(population, k=3):\n",
    "        return max(random.sample(population, k), key=fitness)\n",
    "\n",
    "    def crossover(parent1, parent2):\n",
    "        crossover_point = random.randint(1, len(parent1) - 1)\n",
    "        return parent1[:crossover_point] + parent2[crossover_point:], parent2[:crossover_point] + parent1[crossover_point:]\n",
    "\n",
    "    def mutate(individual):\n",
    "        for i in range(len(individual)):\n",
    "            if random.random() < mutation_rate:\n",
    "                individual[i] = 1 - individual[i] # Flip bit\n",
    "        return individual\n",
    "\n",
    "    for _ in range(num_generations):\n",
    "        new_population = []\n",
    "        for _ in range(population_size // 2):\n",
    "            parent1 = tournament_selection(population)\n",
    "            parent2 = tournament_selection(population)\n",
    "            offspring1, offspring2 = crossover(parent1, parent2)\n",
    "            new_population.append(mutate(offspring1))\n",
    "            new_population.append(mutate(offspring2))\n",
    "        population = new_population\n",
    "\n",
    "    best = max(population, key=fitness)\n",
    "    return df[[bool(bit) for bit in best]].copy(), get_total_value(best), get_total_weight(best)\n"
   ]
  },
  {
   "cell_type": "code",
   "execution_count": 310,
   "metadata": {},
   "outputs": [],
   "source": [
    "def show_genetic_algorithm(df, ga_func=genetic_algorithm, n_runs=4,\n",
    "                           population_size=100, num_generations=50, mutation_rate=0.2):\n",
    "    for _ in range(n_runs):\n",
    "        items, value, weight = ga_func(df, population_size=population_size, num_generations=num_generations, mutation_rate=mutation_rate)\n",
    "        print(f\"Items: {', '.join(items['Name'].tolist())}\")\n",
    "        print(f\"Total weight: {weight:.1f}\")\n",
    "        print(f\"Total value: {value}\")\n",
    "        print()\n"
   ]
  },
  {
   "cell_type": "code",
   "execution_count": 311,
   "metadata": {},
   "outputs": [
    {
     "name": "stdout",
     "output_type": "stream",
     "text": [
      "Items: 2, 4, 7, 9, 10, 11, 14, 16, 18, 19\n",
      "Total weight: 29.3\n",
      "Total value: 32\n",
      "\n",
      "Items: 2, 4, 5, 7, 9, 11, 12, 14, 16, 19\n",
      "Total weight: 29.7\n",
      "Total value: 32\n",
      "\n",
      "Items: 2, 4, 5, 9, 10, 11, 14, 16, 19\n",
      "Total weight: 28.6\n",
      "Total value: 33\n",
      "\n",
      "Items: 2, 4, 6, 7, 9, 10, 11, 14, 16, 19\n",
      "Total weight: 28.2\n",
      "Total value: 32\n",
      "\n",
      "69.8 ms ± 4.21 ms per loop (mean ± std. dev. of 7 runs, 10 loops each)\n"
     ]
    }
   ],
   "source": [
    "# Test with the original 20 items\n",
    "show_genetic_algorithm(df)\n",
    "%timeit genetic_algorithm(df)"
   ]
  },
  {
   "cell_type": "code",
   "execution_count": 312,
   "metadata": {},
   "outputs": [
    {
     "name": "stdout",
     "output_type": "stream",
     "text": [
      "Items: 25, 37, 43, 108, 160, 172, 236, 239, 259, 286, 360, 365, 427, 539, 547, 569, 576, 650, 688, 728, 767, 781, 817, 819, 835, 926, 971, 994\n",
      "Total weight: 29.6\n",
      "Total value: 113\n",
      "\n",
      "Items: 108, 145, 160, 219, 232, 272, 277, 286, 300, 327, 345, 374, 386, 395, 410, 577, 632, 710, 723, 781, 835, 911, 931, 979\n",
      "Total weight: 29.1\n",
      "Total value: 100\n",
      "\n",
      "Items: 25, 63, 90, 154, 257, 277, 362, 386, 395, 417, 421, 481, 483, 500, 513, 569, 680, 705, 730, 748, 776, 781, 812, 813, 850, 911\n",
      "Total weight: 29.9\n",
      "Total value: 105\n",
      "\n",
      "Items: 25, 63, 83, 90, 107, 108, 172, 196, 221, 257, 259, 277, 363, 378, 421, 468, 500, 513, 575, 776, 806, 836, 842, 853, 931, 994, 998\n",
      "Total weight: 30.0\n",
      "Total value: 105\n",
      "\n",
      "2.22 s ± 39.5 ms per loop (mean ± std. dev. of 7 runs, 1 loop each)\n"
     ]
    }
   ],
   "source": [
    "# Test with 1000 items - slow\n",
    "df_1000 = generate_item_df(1000)\n",
    "show_genetic_algorithm(df_1000)\n",
    "timeit_1000 = %timeit -o genetic_algorithm(df_1000)"
   ]
  },
  {
   "cell_type": "code",
   "execution_count": 313,
   "metadata": {},
   "outputs": [],
   "source": [
    "# Rewrite using numpy\n",
    "def genetic_algorithm_np(df, max_weight=30, population_size=100, num_generations=50, mutation_rate=0.5):\n",
    "    weights = df[\"Weight\"].to_numpy()\n",
    "    values = df[\"Value\"].to_numpy()\n",
    "    n = len(values)\n",
    "    \n",
    "    # Normalise mutations, so that longer lists dont become more mutated.\n",
    "    mutation_rate /= n\n",
    "\n",
    "    average_weight = np.mean(weights)\n",
    "    expected_items = max_weight / average_weight\n",
    "    bit_flip_probability = expected_items / n\n",
    "\n",
    "    # Initialise the population so that each individual has roughly the correct weight\n",
    "    population = np.random.rand(population_size, n) < bit_flip_probability\n",
    "    \n",
    "    def fitness(individual):\n",
    "        total_weight = np.dot(weights, individual)\n",
    "        total_value = np.dot(values, individual)\n",
    "        return total_value if total_weight <= max_weight else 0\n",
    "\n",
    "    def tournament_selection(population, k=3):\n",
    "        return max(random.sample(list(population), k), key=fitness)\n",
    "\n",
    "    def crossover(parent1, parent2):\n",
    "        crossover_point = random.randint(1, n - 1)\n",
    "        offspring1 = np.concatenate([parent1[:crossover_point], parent2[crossover_point:]])\n",
    "        offspring2 = np.concatenate([parent2[:crossover_point], parent1[crossover_point:]])\n",
    "        return offspring1, offspring2\n",
    "\n",
    "    def mutate(individual):\n",
    "        mutation_mask = np.random.rand(n) < mutation_rate\n",
    "        individual[mutation_mask] = 1 - individual[mutation_mask] # Flip bit\n",
    "        return individual\n",
    "\n",
    "    for _ in range(num_generations):\n",
    "        new_population = []\n",
    "        for _ in range(population_size // 2):\n",
    "            parent1 = tournament_selection(population)\n",
    "            parent2 = tournament_selection(population)\n",
    "            offspring1, offspring2 = crossover(parent1, parent2)\n",
    "            new_population.append(mutate(offspring1))\n",
    "            new_population.append(mutate(offspring2))\n",
    "        population = np.array(new_population)\n",
    "\n",
    "    best = max(population, key=fitness)\n",
    "    best_items = df.iloc[best.astype(bool)].copy()\n",
    "    return best_items, np.dot(values, best), np.dot(weights, best)"
   ]
  },
  {
   "cell_type": "code",
   "execution_count": 314,
   "metadata": {},
   "outputs": [
    {
     "name": "stdout",
     "output_type": "stream",
     "text": [
      "Items: 25, 100, 160, 172, 221, 300, 327, 362, 373, 500, 537, 628, 641, 710, 714, 728, 741, 764, 767, 836, 911, 914, 927, 971\n",
      "Total weight: 30.0\n",
      "Total value: 99\n",
      "\n",
      "Items: 25, 31, 59, 192, 221, 287, 345, 395, 396, 492, 500, 513, 582, 635, 657, 707, 710, 761, 767, 813, 817, 819, 956, 998\n",
      "Total weight: 30.0\n",
      "Total value: 88\n",
      "\n",
      "Items: 84, 90, 97, 143, 154, 184, 225, 259, 339, 360, 428, 513, 575, 635, 765, 781, 787, 822, 931\n",
      "Total weight: 30.0\n",
      "Total value: 69\n",
      "\n",
      "Items: 25, 31, 61, 107, 145, 257, 286, 310, 381, 484, 500, 531, 569, 575, 728, 791, 833, 835, 868, 927, 994\n",
      "Total weight: 30.0\n",
      "Total value: 81\n",
      "\n",
      "266 ms ± 10.4 ms per loop (mean ± std. dev. of 7 runs, 1 loop each)\n",
      "8.41x faster\n"
     ]
    }
   ],
   "source": [
    "# Test numpy version - 10x faster\n",
    "show_genetic_algorithm(df_1000, ga_func=genetic_algorithm_np)\n",
    "timeit_1000_fast = %timeit -o genetic_algorithm_np(df_1000)\n",
    "print(f\"{timeit_1000.best/timeit_1000_fast.best:.2f}x faster\")"
   ]
  },
  {
   "cell_type": "code",
   "execution_count": 317,
   "metadata": {},
   "outputs": [
    {
     "name": "stdout",
     "output_type": "stream",
     "text": [
      "Mutation rate: 0      Max weight: 29.8  Average value: 55.3\n",
      "Mutation rate: 0.001  Max weight: 29.8  Average value: 58.1\n",
      "Mutation rate: 0.005  Max weight: 30.0  Average value: 57.2\n",
      "Mutation rate: 0.01   Max weight: 30.0  Average value: 59.9\n",
      "Mutation rate: 0.05   Max weight: 30.0  Average value: 66.5\n",
      "Mutation rate: 0.1    Max weight: 30.0  Average value: 78.6\n",
      "Mutation rate: 0.5    Max weight: 30.0  Average value: 104.8\n",
      "Mutation rate: 1      Max weight: 29.7  Average value: 93.5\n",
      "Mutation rate: 5      Max weight: 1167.8  Average value: 582.4\n",
      "Mutation rate: 10     Max weight: 1751.1  Average value: 914.9\n",
      "Mutation rate: 50     Max weight: 2593.4  Average value: 1453.8\n",
      "Mutation rate: 100    Max weight: 2701.4  Average value: 1463.9\n"
     ]
    }
   ],
   "source": [
    "# Try different mutation rates\n",
    "n_runs = 10\n",
    "for mutation_rate in (0, 0.001, 0.005, 0.01, 0.05, 0.1, 0.5, 1, 5, 10, 50, 100):\n",
    "    _, values, weights = list(zip(*[genetic_algorithm_np(df_1000, mutation_rate=mutation_rate) for _ in range(n_runs)]))\n",
    "    print(f\"Mutation rate: {mutation_rate}\".ljust(22) + \n",
    "        f\"Max weight: {max(weights):.1f}  \"\n",
    "        f\"Average value: {sum(values)/n_runs:.1f}\")"
   ]
  },
  {
   "cell_type": "markdown",
   "metadata": {},
   "source": [
    "- It looks like somewhere between the mutation rates of 1 and 5, every member of the population becomes overweight.\n",
    "- 0.5 - 1 looks optimal (for n = 1000 at least)."
   ]
  }
 ],
 "metadata": {
  "kernelspec": {
   "display_name": "venv",
   "language": "python",
   "name": "python3"
  },
  "language_info": {
   "codemirror_mode": {
    "name": "ipython",
    "version": 3
   },
   "file_extension": ".py",
   "mimetype": "text/x-python",
   "name": "python",
   "nbconvert_exporter": "python",
   "pygments_lexer": "ipython3",
   "version": "3.11.0rc1"
  }
 },
 "nbformat": 4,
 "nbformat_minor": 2
}
