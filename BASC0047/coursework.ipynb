{
 "cells": [
  {
   "cell_type": "code",
   "execution_count": 35,
   "metadata": {},
   "outputs": [
    {
     "name": "stdout",
     "output_type": "stream",
     "text": [
      "     Item    Weight     Value\n",
      "0  item 0  5.939322  4.914473\n",
      "1  item 1  7.436704  4.196634\n",
      "2  item 2  6.424870  2.845917\n",
      "3  item 3  5.903949  4.122117\n"
     ]
    }
   ],
   "source": [
    "import pandas as pd\n",
    "import numpy as np\n",
    "\n",
    "np.random.seed(0)\n",
    "\n",
    "def generate_item_df(num_items = 20, weight_range = (1, 10), value_range = (1, 5)):\n",
    "    weights = np.random.uniform(*weight_range, num_items)\n",
    "    values = np.random.uniform(*value_range, num_items)\n",
    "    return pd.DataFrame({\n",
    "        'Item': [f'item {i}' for i in range(num_items)],\n",
    "        'Weight': weights,\n",
    "        'Value': values\n",
    "    })\n",
    "\n",
    "df = generate_item_df()\n",
    "print(df.head(4))"
   ]
  },
  {
   "cell_type": "code",
   "execution_count": 36,
   "metadata": {},
   "outputs": [
    {
     "name": "stdout",
     "output_type": "stream",
     "text": [
      "Items: ['item 0', 'item 3', 'item 11', 'item 15', 'item 16', 'item 18']\n",
      "Total weight: 28.572864492919585\n",
      "Total value: 24.827442025065434\n",
      "\n",
      "Items: ['item 0', 'item 1', 'item 7', 'item 11', 'item 15']\n",
      "Total weight: 29.94620081482642\n",
      "Total value: 21.457260040036658\n",
      "\n",
      "Items: ['item 0', 'item 1', 'item 3', 'item 11', 'item 14', 'item 15', 'item 16']\n",
      "Total weight: 29.645482555503687\n",
      "Total value: 25.324243169619255\n",
      "\n",
      "Items: ['item 0', 'item 3', 'item 7', 'item 9', 'item 14', 'item 15', 'item 16']\n",
      "Total weight: 29.92565465684649\n",
      "Total value: 24.467997583175922\n",
      "\n",
      "Items: ['item 0', 'item 3', 'item 11', 'item 15', 'item 16', 'item 18']\n",
      "Total weight: 28.572864492919585\n",
      "Total value: 24.827442025065434\n",
      "\n"
     ]
    }
   ],
   "source": [
    "import random\n",
    "\n",
    "def genetic_algorithm(df):\n",
    "    weights = df[\"Weight\"].tolist()\n",
    "    values = df[\"Value\"].tolist()\n",
    "    n = len(values)\n",
    "\n",
    "    max_weight = 30\n",
    "\n",
    "    population_size = 100\n",
    "    num_generations = 50\n",
    "    mutation_rate = 0.01\n",
    "\n",
    "    population = [[random.randint(0, 1) for _ in range(n)] for _ in range(population_size)]\n",
    "\n",
    "    def fitness(individual):\n",
    "        total_value = sum(value if individual[i] else 0 for i, value in enumerate(values))\n",
    "        total_weight = sum(weight if individual[i] else 0 for i, weight in enumerate(weights))\n",
    "        if total_weight > max_weight:\n",
    "            return 0\n",
    "        return total_value\n",
    "\n",
    "    def tournament_selection(population, k=3):\n",
    "        return max(random.sample(population, k), key=fitness)\n",
    "\n",
    "    def crossover(parent1, parent2):\n",
    "        crossover_point = random.randint(1, len(parent1) - 1)\n",
    "        return parent1[:crossover_point] + parent2[crossover_point:], parent2[:crossover_point] + parent1[crossover_point:]\n",
    "\n",
    "    def mutate(individual):\n",
    "        for i in range(len(individual)):\n",
    "            if random.random() < mutation_rate:\n",
    "                individual[i] = 1 - individual[i] # Flip bit\n",
    "        return individual\n",
    "\n",
    "    for generation in range(num_generations):\n",
    "        new_population = []\n",
    "        for _ in range(population_size // 2):\n",
    "            parent1 = tournament_selection(population)\n",
    "            parent2 = tournament_selection(population)\n",
    "            offspring1, offspring2 = crossover(parent1, parent2)\n",
    "            new_population.append(mutate(offspring1))\n",
    "            new_population.append(mutate(offspring2))\n",
    "        population = new_population\n",
    "\n",
    "    return max(population, key=fitness)\n",
    "\n",
    "for _ in range(5):\n",
    "    items = [df.iloc[i] for i, bit in enumerate(genetic_algorithm(df)) if bit]\n",
    "    print(f\"Items: {[item['Item'] for item in items]}\")\n",
    "    print(f\"Total weight: {sum([item['Weight'] for item in items])}\")\n",
    "    print(f\"Total value: {sum([item['Value'] for item in items])}\")\n",
    "    print()\n"
   ]
  },
  {
   "cell_type": "code",
   "execution_count": null,
   "metadata": {},
   "outputs": [],
   "source": []
  }
 ],
 "metadata": {
  "kernelspec": {
   "display_name": "venv",
   "language": "python",
   "name": "python3"
  },
  "language_info": {
   "codemirror_mode": {
    "name": "ipython",
    "version": 3
   },
   "file_extension": ".py",
   "mimetype": "text/x-python",
   "name": "python",
   "nbconvert_exporter": "python",
   "pygments_lexer": "ipython3",
   "version": "3.11.0rc1"
  }
 },
 "nbformat": 4,
 "nbformat_minor": 2
}
