{
 "cells": [
  {
   "cell_type": "code",
   "execution_count": 2,
   "metadata": {},
   "outputs": [
    {
     "name": "stdout",
     "output_type": "stream",
     "text": [
      "     Item    Weight     Value\n",
      "0  Item 0  5.939322  4.914473\n",
      "1  Item 1  7.436704  4.196634\n",
      "2  Item 2  6.424870  2.845917\n",
      "3  Item 3  5.903949  4.122117\n"
     ]
    }
   ],
   "source": [
    "import pandas as pd\n",
    "import numpy as np\n",
    "\n",
    "np.random.seed(0)\n",
    "\n",
    "NUM_ITEMS = 20\n",
    "WEIGHT_RANGE = (1, 10)\n",
    "VALUE_RANGE = (1, 5)\n",
    "\n",
    "weights = np.random.uniform(*WEIGHT_RANGE, NUM_ITEMS)\n",
    "values = np.random.uniform(*VALUE_RANGE, NUM_ITEMS)\n",
    "\n",
    "df = pd.DataFrame({\n",
    "    'Item': [f'Item {i}' for i in range(NUM_ITEMS)],\n",
    "    'Weight': weights,\n",
    "    'Value': values\n",
    "})\n",
    "\n",
    "print(df.head(4))"
   ]
  }
 ],
 "metadata": {
  "kernelspec": {
   "display_name": "venv",
   "language": "python",
   "name": "python3"
  },
  "language_info": {
   "codemirror_mode": {
    "name": "ipython",
    "version": 3
   },
   "file_extension": ".py",
   "mimetype": "text/x-python",
   "name": "python",
   "nbconvert_exporter": "python",
   "pygments_lexer": "ipython3",
   "version": "3.11.0rc1"
  }
 },
 "nbformat": 4,
 "nbformat_minor": 2
}
