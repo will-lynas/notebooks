{
 "cells": [
  {
   "cell_type": "code",
   "execution_count": 30,
   "metadata": {},
   "outputs": [
    {
     "name": "stdout",
     "output_type": "stream",
     "text": [
      "     Item    Weight     Value\n",
      "0  item 0  5.488135  0.978618\n",
      "1  item 1  7.151894  0.799159\n",
      "2  item 2  6.027634  0.461479\n",
      "3  item 3  5.448832  0.780529\n"
     ]
    }
   ],
   "source": [
    "import pandas as pd\n",
    "import numpy as np\n",
    "\n",
    "np.random.seed(0)\n",
    "\n",
    "def generate_item_df(num_items = 20, weight_range = (0, 10), value_range = (0, 1)):\n",
    "    weights = np.random.uniform(*weight_range, num_items)\n",
    "    values = np.random.uniform(*value_range, num_items)\n",
    "    return pd.DataFrame({\n",
    "        'Item': [f'item {i}' for i in range(num_items)],\n",
    "        'Weight': weights,\n",
    "        'Value': values\n",
    "    })\n",
    "\n",
    "df = generate_item_df()\n",
    "print(df.head(4))"
   ]
  },
  {
   "cell_type": "code",
   "execution_count": 31,
   "metadata": {},
   "outputs": [],
   "source": [
    "import random\n",
    "\n",
    "random.seed(0)\n",
    "\n",
    "def genetic_algorithm(df, max_weight=30, population_size=100, num_generations=50, mutation_rate=0.01):\n",
    "    weights = df[\"Weight\"].tolist()\n",
    "    values = df[\"Value\"].tolist()\n",
    "    n = len(values)\n",
    "\n",
    "    average_weight = sum(weights) / n\n",
    "    expected_items = max_weight / average_weight\n",
    "    bit_flip_probability = expected_items / n\n",
    "\n",
    "    # Initialise the population so that each individual has roughly the correct weight\n",
    "    population = [[1 if random.random() < bit_flip_probability else 0 for _ in range(n)]\n",
    "                  for _ in range(population_size)]\n",
    "\n",
    "    def fitness(individual):\n",
    "        total_value = sum(value if individual[i] else 0 for i, value in enumerate(values))\n",
    "        total_weight = sum(weight if individual[i] else 0 for i, weight in enumerate(weights))\n",
    "        if (diff := max_weight - total_weight) < 0:\n",
    "            # The more overweight we are, the more negative the fitness is\n",
    "            return diff\n",
    "        return total_value\n",
    "\n",
    "    def tournament_selection(population, k=3):\n",
    "        return max(random.sample(population, k), key=fitness)\n",
    "\n",
    "    def crossover(parent1, parent2):\n",
    "        crossover_point = random.randint(1, len(parent1) - 1)\n",
    "        return parent1[:crossover_point] + parent2[crossover_point:], parent2[:crossover_point] + parent1[crossover_point:]\n",
    "\n",
    "    def mutate(individual):\n",
    "        for i in range(len(individual)):\n",
    "            if random.random() < mutation_rate:\n",
    "                individual[i] = 1 - individual[i] # Flip bit\n",
    "        return individual\n",
    "\n",
    "    for _ in range(num_generations):\n",
    "        new_population = []\n",
    "        for _ in range(population_size // 2):\n",
    "            parent1 = tournament_selection(population)\n",
    "            parent2 = tournament_selection(population)\n",
    "            offspring1, offspring2 = crossover(parent1, parent2)\n",
    "            new_population.append(mutate(offspring1))\n",
    "            new_population.append(mutate(offspring2))\n",
    "        population = new_population\n",
    "\n",
    "    best = max(population, key=fitness)\n",
    "    return best"
   ]
  },
  {
   "cell_type": "code",
   "execution_count": 32,
   "metadata": {},
   "outputs": [],
   "source": [
    "def test_genetic_algorithm(df, n_runs=4):\n",
    "    for _ in range(n_runs):\n",
    "        indices = [i for i, bit in enumerate(genetic_algorithm(df)) if bit]\n",
    "        items = [df.iloc[i] for i in indices]\n",
    "        print(f\"Items: {', '.join(map(str, indices))}\")\n",
    "        print(f\"Total weight: {sum([item['Weight'] for item in items]):.2f}\")\n",
    "        print(f\"Total value: {sum([item['Value'] for item in items]):.2f}\")\n",
    "        print()\n"
   ]
  },
  {
   "cell_type": "code",
   "execution_count": 33,
   "metadata": {},
   "outputs": [
    {
     "name": "stdout",
     "output_type": "stream",
     "text": [
      "Items: 0, 3, 9, 11, 14, 15, 16, 18\n",
      "Total weight: 29.63\n",
      "Total value: 5.14\n",
      "\n",
      "Items: 0, 3, 7, 14, 15, 16, 18\n",
      "Total weight: 29.42\n",
      "Total value: 4.90\n",
      "\n",
      "Items: 0, 3, 14, 15, 16, 18, 19\n",
      "Total weight: 29.20\n",
      "Total value: 4.63\n",
      "\n",
      "Items: 0, 3, 9, 11, 14, 15, 16, 18\n",
      "Total weight: 29.63\n",
      "Total value: 5.14\n",
      "\n"
     ]
    }
   ],
   "source": [
    "# Test with the original 20 items\n",
    "test_genetic_algorithm(df)"
   ]
  },
  {
   "cell_type": "code",
   "execution_count": 34,
   "metadata": {},
   "outputs": [
    {
     "name": "stdout",
     "output_type": "stream",
     "text": [
      "Items: 1, 3, 6, 7, 13, 29, 42, 68, 70, 75, 78, 80, 89, 92, 93, 100, 101, 113, 118, 126, 128, 136, 138, 139, 149, 150, 151, 155, 164, 174, 177, 180, 182, 185, 194, 198, 204, 209, 213, 219, 222, 245, 250, 255, 260, 263, 269, 275, 278, 299, 301, 311, 312, 317, 322, 341, 348, 349, 354, 358, 359, 362, 370, 377, 382, 383, 389, 406, 423, 427, 429, 440, 453, 456, 458, 466, 468, 477, 479, 480, 509, 513, 514, 516, 520, 521, 523, 530, 532, 533, 536, 545, 546, 558, 560, 563, 564, 567, 574, 575, 577, 578, 580, 588, 591, 598, 607, 609, 612, 613, 615, 617, 620, 624, 631, 638, 648, 649, 651, 657, 660, 665, 666, 668, 670, 671, 682, 684, 698, 702, 704, 705, 710, 717, 723, 733, 738, 740, 743, 745, 751, 753, 757, 767, 775, 780, 783, 789, 794, 802, 803, 807, 819, 827, 828, 831, 834, 835, 857, 874, 880, 887, 900, 901, 908, 912, 921, 928, 936, 943, 944, 945, 950, 958, 959, 961, 962, 968, 976, 981, 987\n",
      "Total weight: 634.99\n",
      "Total value: 94.77\n",
      "\n",
      "Items: 3, 12, 20, 36, 37, 40, 45, 48, 59, 64, 70, 83, 84, 89, 92, 107, 108, 111, 114, 121, 127, 136, 140, 150, 159, 160, 164, 170, 175, 178, 186, 193, 196, 203, 208, 210, 215, 220, 221, 232, 234, 240, 243, 247, 248, 251, 265, 267, 269, 280, 297, 303, 311, 317, 320, 339, 350, 354, 357, 362, 367, 383, 390, 394, 399, 400, 405, 420, 426, 427, 431, 440, 441, 442, 459, 461, 462, 469, 479, 481, 482, 496, 500, 504, 506, 515, 516, 521, 523, 524, 525, 540, 542, 543, 552, 557, 569, 587, 590, 596, 597, 602, 603, 605, 612, 615, 616, 625, 629, 633, 637, 642, 661, 665, 676, 677, 689, 694, 700, 709, 712, 727, 729, 730, 733, 736, 740, 745, 746, 756, 760, 762, 763, 774, 775, 776, 779, 780, 783, 788, 789, 793, 795, 799, 802, 807, 814, 832, 845, 848, 874, 881, 886, 887, 891, 894, 897, 900, 901, 922, 930, 938, 948, 950, 952, 955, 960, 972, 973, 974, 977, 978, 987, 998\n",
      "Total weight: 611.12\n",
      "Total value: 91.28\n",
      "\n",
      "Items: 0, 3, 4, 6, 18, 20, 21, 24, 28, 37, 42, 46, 68, 77, 89, 92, 97, 99, 101, 126, 133, 145, 151, 174, 182, 183, 188, 190, 193, 198, 203, 210, 215, 220, 236, 238, 239, 242, 250, 251, 255, 262, 268, 273, 275, 278, 282, 290, 292, 299, 302, 305, 306, 313, 316, 317, 320, 323, 326, 331, 334, 337, 342, 346, 347, 349, 350, 354, 356, 358, 367, 368, 370, 374, 375, 376, 378, 382, 389, 404, 413, 417, 424, 431, 440, 442, 453, 460, 464, 474, 478, 500, 517, 518, 523, 530, 531, 540, 541, 553, 564, 585, 596, 605, 617, 624, 652, 661, 662, 664, 684, 685, 693, 695, 698, 700, 712, 731, 744, 747, 749, 753, 756, 776, 781, 789, 797, 811, 826, 831, 832, 837, 856, 861, 863, 869, 880, 881, 905, 913, 916, 952, 957, 961, 963, 964, 971, 974, 975, 976, 982, 984, 987, 989, 993, 995\n",
      "Total weight: 553.36\n",
      "Total value: 78.72\n",
      "\n",
      "Items: 5, 17, 25, 29, 34, 47, 52, 81, 89, 92, 101, 105, 106, 111, 119, 128, 129, 131, 140, 159, 162, 164, 176, 177, 187, 190, 191, 197, 199, 201, 203, 204, 215, 221, 238, 240, 243, 247, 250, 254, 255, 266, 269, 270, 272, 276, 277, 279, 281, 282, 284, 285, 287, 290, 292, 310, 311, 312, 332, 335, 336, 350, 354, 356, 365, 372, 376, 383, 386, 387, 392, 394, 398, 403, 409, 420, 428, 433, 435, 453, 455, 459, 463, 468, 472, 474, 478, 496, 505, 513, 531, 534, 536, 539, 542, 545, 546, 550, 556, 571, 589, 591, 596, 599, 608, 610, 615, 617, 620, 635, 640, 649, 652, 661, 662, 667, 675, 676, 677, 690, 697, 700, 711, 715, 717, 718, 722, 727, 740, 746, 750, 756, 771, 774, 783, 789, 795, 797, 811, 821, 827, 835, 841, 842, 846, 848, 856, 857, 858, 866, 879, 887, 889, 893, 902, 904, 905, 919, 922, 935, 937, 952, 961, 967, 968, 971, 977, 989, 998\n",
      "Total weight: 609.45\n",
      "Total value: 89.66\n",
      "\n"
     ]
    }
   ],
   "source": [
    "# Test with 1000 items\n",
    "test_genetic_algorithm(generate_item_df(1000))\n",
    "# Very overweight - TODO: fix this\n",
    "# Also very slow"
   ]
  }
 ],
 "metadata": {
  "kernelspec": {
   "display_name": "venv",
   "language": "python",
   "name": "python3"
  },
  "language_info": {
   "codemirror_mode": {
    "name": "ipython",
    "version": 3
   },
   "file_extension": ".py",
   "mimetype": "text/x-python",
   "name": "python",
   "nbconvert_exporter": "python",
   "pygments_lexer": "ipython3",
   "version": "3.11.0rc1"
  }
 },
 "nbformat": 4,
 "nbformat_minor": 2
}
