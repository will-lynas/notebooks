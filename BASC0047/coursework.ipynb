{
 "cells": [
  {
   "cell_type": "code",
   "execution_count": 180,
   "metadata": {},
   "outputs": [
    {
     "name": "stdout",
     "output_type": "stream",
     "text": [
      "  Name    Weight     Value\n",
      "0    0  4.447822  0.435130\n",
      "1    1  2.149656  0.072205\n",
      "2    2  9.080222  0.711223\n",
      "3    3  9.307794  0.472355\n"
     ]
    }
   ],
   "source": [
    "import pandas as pd\n",
    "import numpy as np\n",
    "import random\n",
    "\n",
    "def generate_item_df(num_items = 20, weight_range = (0, 10), value_range = (0, 1)):\n",
    "    weights = np.random.uniform(*weight_range, num_items)\n",
    "    values = np.random.uniform(*value_range, num_items)\n",
    "    return pd.DataFrame({\n",
    "        'Name': [str(i) for i in range(num_items)],\n",
    "        'Weight': weights,\n",
    "        'Value': values\n",
    "    })\n",
    "\n",
    "df = generate_item_df()\n",
    "print(df.head(4))"
   ]
  },
  {
   "cell_type": "code",
   "execution_count": 181,
   "metadata": {},
   "outputs": [],
   "source": [
    "def genetic_algorithm(df, max_weight=30, population_size=100, num_generations=50, mutation_rate=0.2):\n",
    "    weights = df[\"Weight\"].tolist()\n",
    "    values = df[\"Value\"].tolist()\n",
    "    n = len(values)\n",
    "    \n",
    "    # Normalaise mutations, so that longer lists dont become more mutated.\n",
    "    mutation_rate /= n\n",
    "\n",
    "    average_weight = sum(weights) / n\n",
    "    expected_items = max_weight / average_weight\n",
    "    bit_flip_probability = expected_items / n\n",
    "\n",
    "    # Initialise the population so that each individual has roughly the correct weight\n",
    "    population = [[1 if random.random() < bit_flip_probability else 0 for _ in range(n)]\n",
    "                  for _ in range(population_size)]\n",
    "    \n",
    "    def get_total_value(individual):\n",
    "        return sum(value if individual[i] else 0 for i, value in enumerate(values))\n",
    "    \n",
    "    def get_total_weight(individual):\n",
    "        return sum(weight if individual[i] else 0 for i, weight in enumerate(weights))\n",
    "\n",
    "    def fitness(individual):\n",
    "        total_weight = get_total_weight(individual)\n",
    "        total_value = get_total_value(individual)\n",
    "        if total_weight > max_weight:\n",
    "            return 0\n",
    "        return total_value\n",
    "\n",
    "    def tournament_selection(population, k=3):\n",
    "        return max(random.sample(population, k), key=fitness)\n",
    "\n",
    "    def crossover(parent1, parent2):\n",
    "        crossover_point = random.randint(1, len(parent1) - 1)\n",
    "        return parent1[:crossover_point] + parent2[crossover_point:], parent2[:crossover_point] + parent1[crossover_point:]\n",
    "\n",
    "    def mutate(individual):\n",
    "        for i in range(len(individual)):\n",
    "            if random.random() < mutation_rate:\n",
    "                individual[i] = 1 - individual[i] # Flip bit\n",
    "        return individual\n",
    "\n",
    "    for _ in range(num_generations):\n",
    "        new_population = []\n",
    "        for _ in range(population_size // 2):\n",
    "            parent1 = tournament_selection(population)\n",
    "            parent2 = tournament_selection(population)\n",
    "            offspring1, offspring2 = crossover(parent1, parent2)\n",
    "            new_population.append(mutate(offspring1))\n",
    "            new_population.append(mutate(offspring2))\n",
    "        population = new_population\n",
    "\n",
    "    best = max(population, key=fitness)\n",
    "    return [df.iloc[i] for i, bit in enumerate(best) if bit], get_total_value(best), get_total_weight(best)\n"
   ]
  },
  {
   "cell_type": "code",
   "execution_count": 182,
   "metadata": {},
   "outputs": [],
   "source": [
    "def show_genetic_algorithm(df, n_runs=4,\n",
    "                           population_size=100, num_generations=50, mutation_rate=0.2):\n",
    "    for _ in range(n_runs):\n",
    "        items, value, weight = genetic_algorithm(df, population_size=population_size, num_generations=num_generations, mutation_rate=mutation_rate)\n",
    "        print(f\"Items: {', '.join(item['Name'] for item in items)}\")\n",
    "        print(f\"Total weight: {weight:.2f}\")\n",
    "        print(f\"Total value: {value:.2f}\")\n",
    "        print()\n"
   ]
  },
  {
   "cell_type": "code",
   "execution_count": 183,
   "metadata": {},
   "outputs": [
    {
     "name": "stdout",
     "output_type": "stream",
     "text": [
      "Items: 0, 4, 6, 8, 9, 10, 13, 14, 15, 18\n",
      "Total weight: 28.49\n",
      "Total value: 5.44\n",
      "\n",
      "Items: 4, 6, 8, 9, 10, 12, 13, 14, 15, 18\n",
      "Total weight: 29.99\n",
      "Total value: 5.76\n",
      "\n",
      "Items: 0, 4, 8, 9, 10, 12, 13, 15, 18\n",
      "Total weight: 28.90\n",
      "Total value: 5.87\n",
      "\n",
      "Items: 0, 4, 8, 9, 10, 12, 13, 15, 18\n",
      "Total weight: 28.90\n",
      "Total value: 5.87\n",
      "\n",
      "70.6 ms ± 2.28 ms per loop (mean ± std. dev. of 7 runs, 10 loops each)\n"
     ]
    }
   ],
   "source": [
    "# Test with the original 20 items\n",
    "show_genetic_algorithm(df)\n",
    "%timeit genetic_algorithm(df)"
   ]
  },
  {
   "cell_type": "code",
   "execution_count": 185,
   "metadata": {},
   "outputs": [
    {
     "name": "stdout",
     "output_type": "stream",
     "text": [
      "Items: 39, 49, 147, 181, 209, 255, 286, 344, 375, 431, 455, 462, 506, 611, 631, 641, 681, 688, 742, 775, 812, 866, 876, 932, 970\n",
      "Total weight: 29.93\n",
      "Total value: 18.36\n",
      "\n",
      "Items: 29, 68, 138, 166, 175, 288, 294, 308, 344, 365, 395, 432, 526, 565, 734, 737, 742, 825, 835, 854, 871, 927\n",
      "Total weight: 29.81\n",
      "Total value: 17.75\n",
      "\n",
      "Items: 95, 116, 123, 147, 166, 193, 227, 259, 275, 299, 384, 455, 616, 649, 705, 748, 775, 793, 835, 838, 876, 889, 911, 927\n",
      "Total weight: 29.17\n",
      "Total value: 17.73\n",
      "\n",
      "Items: 68, 146, 147, 166, 168, 175, 182, 236, 256, 306, 344, 350, 431, 451, 460, 526, 580, 681, 705, 754, 793, 866, 922, 924, 948\n",
      "Total weight: 29.99\n",
      "Total value: 17.80\n",
      "\n",
      "2.25 s ± 91.4 ms per loop (mean ± std. dev. of 7 runs, 1 loop each)\n"
     ]
    }
   ],
   "source": [
    "# Test with 1000 items - slow\n",
    "df_1000 = generate_item_df(1000)\n",
    "show_genetic_algorithm(df_1000)\n",
    "%timeit genetic_algorithm(df_1000)"
   ]
  }
 ],
 "metadata": {
  "kernelspec": {
   "display_name": "venv",
   "language": "python",
   "name": "python3"
  },
  "language_info": {
   "codemirror_mode": {
    "name": "ipython",
    "version": 3
   },
   "file_extension": ".py",
   "mimetype": "text/x-python",
   "name": "python",
   "nbconvert_exporter": "python",
   "pygments_lexer": "ipython3",
   "version": "3.11.0rc1"
  }
 },
 "nbformat": 4,
 "nbformat_minor": 2
}
