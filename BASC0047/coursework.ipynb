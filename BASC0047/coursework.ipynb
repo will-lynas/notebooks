{
 "cells": [
  {
   "cell_type": "code",
   "execution_count": 269,
   "metadata": {},
   "outputs": [
    {
     "name": "stdout",
     "output_type": "stream",
     "text": [
      "  Name    Weight     Value\n",
      "0    0  7.224940  0.115832\n",
      "1    1  5.612525  0.511764\n",
      "2    2  2.073984  0.220562\n",
      "3    3  8.391002  0.608882\n"
     ]
    }
   ],
   "source": [
    "import pandas as pd\n",
    "import numpy as np\n",
    "import random\n",
    "\n",
    "def generate_item_df(num_items = 20, weight_range = (0, 10), value_range = (0, 1)):\n",
    "    weights = np.random.uniform(*weight_range, num_items)\n",
    "    values = np.random.uniform(*value_range, num_items)\n",
    "    return pd.DataFrame({\n",
    "        'Name': [str(i) for i in range(num_items)],\n",
    "        'Weight': weights,\n",
    "        'Value': values\n",
    "    })\n",
    "\n",
    "df = generate_item_df()\n",
    "print(df.head(4))"
   ]
  },
  {
   "cell_type": "code",
   "execution_count": 270,
   "metadata": {},
   "outputs": [],
   "source": [
    "def genetic_algorithm(df, max_weight=30, population_size=100, num_generations=50, mutation_rate=1):\n",
    "    weights = df[\"Weight\"].tolist()\n",
    "    values = df[\"Value\"].tolist()\n",
    "    n = len(values)\n",
    "    \n",
    "    # Normalise mutations, so that longer lists dont become more mutated.\n",
    "    mutation_rate /= n\n",
    "\n",
    "    average_weight = sum(weights) / n\n",
    "    expected_items = max_weight / average_weight\n",
    "    bit_flip_probability = expected_items / n\n",
    "\n",
    "    # Initialise the population so that each individual has roughly the correct weight\n",
    "    population = [[1 if random.random() < bit_flip_probability else 0 for _ in range(n)]\n",
    "                  for _ in range(population_size)]\n",
    "    \n",
    "    def get_total_value(individual):\n",
    "        return sum(value if individual[i] else 0 for i, value in enumerate(values))\n",
    "    \n",
    "    def get_total_weight(individual):\n",
    "        return sum(weight if individual[i] else 0 for i, weight in enumerate(weights))\n",
    "\n",
    "    def fitness(individual):\n",
    "        total_weight = get_total_weight(individual)\n",
    "        total_value = get_total_value(individual)\n",
    "        if total_weight > max_weight:\n",
    "            return 0\n",
    "        return total_value\n",
    "\n",
    "    def tournament_selection(population, k=3):\n",
    "        return max(random.sample(population, k), key=fitness)\n",
    "\n",
    "    def crossover(parent1, parent2):\n",
    "        crossover_point = random.randint(1, len(parent1) - 1)\n",
    "        return parent1[:crossover_point] + parent2[crossover_point:], parent2[:crossover_point] + parent1[crossover_point:]\n",
    "\n",
    "    def mutate(individual):\n",
    "        for i in range(len(individual)):\n",
    "            if random.random() < mutation_rate:\n",
    "                individual[i] = 1 - individual[i] # Flip bit\n",
    "        return individual\n",
    "\n",
    "    for _ in range(num_generations):\n",
    "        new_population = []\n",
    "        for _ in range(population_size // 2):\n",
    "            parent1 = tournament_selection(population)\n",
    "            parent2 = tournament_selection(population)\n",
    "            offspring1, offspring2 = crossover(parent1, parent2)\n",
    "            new_population.append(mutate(offspring1))\n",
    "            new_population.append(mutate(offspring2))\n",
    "        population = new_population\n",
    "\n",
    "    best = max(population, key=fitness)\n",
    "    return df[[bool(bit) for bit in best]].copy(), get_total_value(best), get_total_weight(best)\n"
   ]
  },
  {
   "cell_type": "code",
   "execution_count": 271,
   "metadata": {},
   "outputs": [],
   "source": [
    "def show_genetic_algorithm(df, ga_func=genetic_algorithm, n_runs=4,\n",
    "                           population_size=100, num_generations=50, mutation_rate=0.2):\n",
    "    for _ in range(n_runs):\n",
    "        items, value, weight = ga_func(df, population_size=population_size, num_generations=num_generations, mutation_rate=mutation_rate)\n",
    "        print(f\"Items: {', '.join(items['Name'].tolist())}\")\n",
    "        print(f\"Total weight: {weight:.2f}\")\n",
    "        print(f\"Total value: {value:.2f}\")\n",
    "        print()\n"
   ]
  },
  {
   "cell_type": "code",
   "execution_count": 272,
   "metadata": {},
   "outputs": [
    {
     "name": "stdout",
     "output_type": "stream",
     "text": [
      "Items: 3, 4, 6, 13, 14, 18\n",
      "Total weight: 29.21\n",
      "Total value: 4.82\n",
      "\n",
      "Items: 2, 4, 6, 7, 11, 13, 14, 18\n",
      "Total weight: 29.82\n",
      "Total value: 4.99\n",
      "\n",
      "Items: 4, 6, 7, 13, 14, 18, 19\n",
      "Total weight: 29.94\n",
      "Total value: 5.15\n",
      "\n",
      "Items: 1, 2, 4, 6, 7, 13, 14, 19\n",
      "Total weight: 28.51\n",
      "Total value: 4.91\n",
      "\n",
      "72.8 ms ± 4.33 ms per loop (mean ± std. dev. of 7 runs, 10 loops each)\n"
     ]
    }
   ],
   "source": [
    "# Test with the original 20 items\n",
    "show_genetic_algorithm(df)\n",
    "%timeit genetic_algorithm(df)"
   ]
  },
  {
   "cell_type": "code",
   "execution_count": 273,
   "metadata": {},
   "outputs": [
    {
     "name": "stdout",
     "output_type": "stream",
     "text": [
      "Items: 32, 153, 194, 205, 238, 256, 271, 298, 338, 359, 400, 461, 493, 566, 571, 574, 584, 638, 768, 783, 806, 874, 882, 911, 920, 984\n",
      "Total weight: 29.89\n",
      "Total value: 19.75\n",
      "\n",
      "Items: 33, 71, 133, 153, 158, 193, 200, 262, 333, 397, 400, 426, 461, 655, 664, 669, 703, 734, 760, 783, 804, 874, 890, 935, 952, 984\n",
      "Total weight: 29.84\n",
      "Total value: 17.33\n",
      "\n",
      "Items: 25, 66, 175, 194, 200, 284, 285, 305, 333, 346, 355, 419, 446, 482, 550, 646, 683, 703, 769, 795, 806, 821, 952, 994\n",
      "Total weight: 29.95\n",
      "Total value: 17.08\n",
      "\n",
      "Items: 20, 82, 194, 218, 223, 238, 291, 298, 391, 461, 465, 485, 540, 584, 704, 765, 778, 832, 882, 973\n",
      "Total weight: 30.00\n",
      "Total value: 14.03\n",
      "\n",
      "2.14 s ± 42.1 ms per loop (mean ± std. dev. of 7 runs, 1 loop each)\n"
     ]
    }
   ],
   "source": [
    "# Test with 1000 items - slow\n",
    "df_1000 = generate_item_df(1000)\n",
    "show_genetic_algorithm(df_1000)\n",
    "timeit_1000 = %timeit -o genetic_algorithm(df_1000)"
   ]
  },
  {
   "cell_type": "code",
   "execution_count": 274,
   "metadata": {},
   "outputs": [],
   "source": [
    "# Rewrite using numpy\n",
    "def genetic_algorithm_np(df, max_weight=30, population_size=100, num_generations=50, mutation_rate=1):\n",
    "    weights = df[\"Weight\"].to_numpy()\n",
    "    values = df[\"Value\"].to_numpy()\n",
    "    n = len(values)\n",
    "    \n",
    "    # Normalise mutations, so that longer lists dont become more mutated.\n",
    "    mutation_rate /= n\n",
    "\n",
    "    average_weight = np.mean(weights)\n",
    "    expected_items = max_weight / average_weight\n",
    "    bit_flip_probability = expected_items / n\n",
    "\n",
    "    # Initialise the population so that each individual has roughly the correct weight\n",
    "    population = np.random.rand(population_size, n) < bit_flip_probability\n",
    "    \n",
    "    def fitness(individual):\n",
    "        total_weight = np.dot(weights, individual)\n",
    "        total_value = np.dot(values, individual)\n",
    "        return total_value if total_weight <= max_weight else 0\n",
    "\n",
    "    def tournament_selection(population, k=3):\n",
    "        return max(random.sample(list(population), k), key=fitness)\n",
    "\n",
    "    def crossover(parent1, parent2):\n",
    "        crossover_point = random.randint(1, n - 1)\n",
    "        offspring1 = np.concatenate([parent1[:crossover_point], parent2[crossover_point:]])\n",
    "        offspring2 = np.concatenate([parent2[:crossover_point], parent1[crossover_point:]])\n",
    "        return offspring1, offspring2\n",
    "\n",
    "    def mutate(individual):\n",
    "        mutation_mask = np.random.rand(n) < mutation_rate\n",
    "        individual[mutation_mask] = 1 - individual[mutation_mask] # Flip bit\n",
    "        return individual\n",
    "\n",
    "    for _ in range(num_generations):\n",
    "        new_population = []\n",
    "        for _ in range(population_size // 2):\n",
    "            parent1 = tournament_selection(population)\n",
    "            parent2 = tournament_selection(population)\n",
    "            offspring1, offspring2 = crossover(parent1, parent2)\n",
    "            new_population.append(mutate(offspring1))\n",
    "            new_population.append(mutate(offspring2))\n",
    "        population = np.array(new_population)\n",
    "\n",
    "    best = max(population, key=fitness)\n",
    "    best_items = df.iloc[best.astype(bool)].copy()\n",
    "    return best_items, np.dot(values, best), np.dot(weights, best)"
   ]
  },
  {
   "cell_type": "code",
   "execution_count": 275,
   "metadata": {},
   "outputs": [
    {
     "name": "stdout",
     "output_type": "stream",
     "text": [
      "Items: 25, 31, 80, 153, 194, 220, 234, 260, 355, 378, 438, 461, 550, 578, 646, 664, 765, 806, 856, 935, 952, 963\n",
      "Total weight: 29.90\n",
      "Total value: 17.72\n",
      "\n",
      "Items: 49, 74, 200, 205, 223, 252, 310, 461, 463, 487, 646, 699, 708, 756, 765, 805, 806, 808, 829, 863, 935, 975\n",
      "Total weight: 29.89\n",
      "Total value: 16.10\n",
      "\n",
      "Items: 25, 143, 154, 155, 175, 252, 256, 284, 333, 374, 397, 479, 504, 583, 605, 618, 655, 664, 784, 789, 821, 882, 890, 903, 959\n",
      "Total weight: 29.97\n",
      "Total value: 16.59\n",
      "\n",
      "Items: 71, 153, 176, 179, 218, 238, 251, 270, 374, 498, 500, 560, 638, 696, 741, 843, 856\n",
      "Total weight: 29.98\n",
      "Total value: 12.11\n",
      "\n",
      "232 ms ± 3.34 ms per loop (mean ± std. dev. of 7 runs, 1 loop each)\n",
      "9.25x faster\n"
     ]
    }
   ],
   "source": [
    "# Test numpy version - 10x faster\n",
    "show_genetic_algorithm(df_1000, ga_func=genetic_algorithm_np)\n",
    "timeit_1000_fast = %timeit -o genetic_algorithm_np(df_1000)\n",
    "print(f\"{timeit_1000.best/timeit_1000_fast.best:.2f}x faster\")"
   ]
  },
  {
   "cell_type": "code",
   "execution_count": 276,
   "metadata": {},
   "outputs": [
    {
     "name": "stdout",
     "output_type": "stream",
     "text": [
      "Mutation rate: 0      Max weight: 29.925  Average value: 9.816\n",
      "Mutation rate: 0.001  Max weight: 29.753  Average value: 10.615\n",
      "Mutation rate: 0.005  Max weight: 29.952  Average value: 10.677\n",
      "Mutation rate: 0.01   Max weight: 29.956  Average value: 11.390\n",
      "Mutation rate: 0.05   Max weight: 30.000  Average value: 14.356\n",
      "Mutation rate: 0.1    Max weight: 29.995  Average value: 14.532\n",
      "Mutation rate: 0.5    Max weight: 29.870  Average value: 19.010\n",
      "Mutation rate: 1      Max weight: 88.288  Average value: 18.102\n",
      "Mutation rate: 5      Max weight: 1086.124  Average value: 96.895\n",
      "Mutation rate: 10     Max weight: 1749.592  Average value: 156.361\n",
      "Mutation rate: 50     Max weight: 2556.457  Average value: 240.127\n",
      "Mutation rate: 100    Max weight: 2603.142  Average value: 239.680\n"
     ]
    }
   ],
   "source": [
    "# Try different mutation rates\n",
    "n_runs = 10\n",
    "for mutation_rate in (0, 0.001, 0.005, 0.01, 0.05, 0.1, 0.5, 1, 5, 10, 50, 100):\n",
    "    _, values, weights = list(zip(*[genetic_algorithm_np(df_1000, mutation_rate=mutation_rate) for _ in range(n_runs)]))\n",
    "    print(f\"Mutation rate: {mutation_rate}\".ljust(22) + \n",
    "        f\"Max weight: {max(weights):.3f}  \"\n",
    "        f\"Average value: {sum(values)/n_runs:.3f}\")"
   ]
  },
  {
   "cell_type": "markdown",
   "metadata": {},
   "source": [
    "- It looks like somewhere between the mutation rates of 1 and 5, every member of the population becomes overweight.\n",
    "- 0.5 - 1 looks optimal (for n = 1000 at least)."
   ]
  }
 ],
 "metadata": {
  "kernelspec": {
   "display_name": "venv",
   "language": "python",
   "name": "python3"
  },
  "language_info": {
   "codemirror_mode": {
    "name": "ipython",
    "version": 3
   },
   "file_extension": ".py",
   "mimetype": "text/x-python",
   "name": "python",
   "nbconvert_exporter": "python",
   "pygments_lexer": "ipython3",
   "version": "3.11.0rc1"
  }
 },
 "nbformat": 4,
 "nbformat_minor": 2
}
