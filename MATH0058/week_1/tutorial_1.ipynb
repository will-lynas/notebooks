{
  "nbformat": 4,
  "nbformat_minor": 0,
  "metadata": {
    "colab": {
      "provenance": []
    },
    "kernelspec": {
      "name": "python3",
      "display_name": "Python 3"
    },
    "language_info": {
      "name": "python"
    }
  },
  "cells": [
    {
      "cell_type": "markdown",
      "source": [
        "# Tutorial 1: An Introduction to Python"
      ],
      "metadata": {
        "id": "n3qHY4hG45bS"
      }
    },
    {
      "cell_type": "markdown",
      "source": [
        "The best way to learn Python (and indeed any programming languages) is learning by doing. The semester projects will require a great deal of programming and these tutorial sessions are designed to support you to learn Python. During the tutorials we will give simple demos and support you working through the tutorial sheets. However, it is expected that students will complete the tutorial sheets at home. Once a tutorial sheet has been discussed in the tutorial sessions it is assumed that students are familiar with the content.\n",
        "\n",
        "The course is progressing at a fast pace and it is your responsibility to keep up with the lectures and the tutorials. It is not the task of the tutorials to discuss every single Python feature. We will teach you the basic frameworks of the language. But it is expected that you actively seek out documentation on the Internet (e.g. via Google) for advanced features that you may need to complete the tutorials.\n",
        "\n",
        "Python is a modern scripting language, which in recent years has gained much popularity in the\n",
        "Scientific Computing World. It is easy to learn, offers advanced features for very large projects, and\n",
        "can easily interface libraries in traditional programming languages such as C/C++ or Fortran."
      ],
      "metadata": {
        "id": "LEOJ01kb493o"
      }
    },
    {
      "cell_type": "markdown",
      "source": [
        "## Python warm-up"
      ],
      "metadata": {
        "id": "WkNFUqJQ7WbQ"
      }
    },
    {
      "cell_type": "markdown",
      "source": [
        "Guess the outputs of the following cells before executing them:"
      ],
      "metadata": {
        "id": "LXMnyjFk7cOq"
      }
    },
    {
      "cell_type": "code",
      "execution_count": null,
      "metadata": {
        "id": "WwIcurum4xFo"
      },
      "outputs": [],
      "source": [
        "A = [[1,2],[2,3]]\n",
        "type(A)"
      ]
    },
    {
      "cell_type": "code",
      "source": [
        "A = [[1,2],[2,3]]\n",
        "B = [1,\"hello\"]\n",
        "A + B"
      ],
      "metadata": {
        "id": "zQPuGnPS7kyR"
      },
      "execution_count": null,
      "outputs": []
    },
    {
      "cell_type": "code",
      "source": [
        "A[1]"
      ],
      "metadata": {
        "id": "T4-Tnund7mfu"
      },
      "execution_count": null,
      "outputs": []
    },
    {
      "cell_type": "markdown",
      "source": [
        "## Test your Python knowledge"
      ],
      "metadata": {
        "id": "tezj536L5UWB"
      }
    },
    {
      "cell_type": "markdown",
      "source": [
        "The recommended way to start with Python is to work in Colab: https://colab.research.google.com.\n",
        "\n",
        "We first want to make sure that you have a good working knowledge of basic Python concepts. **To test your knowledge work through the multiple choice test [Concepts in Python 1](https://drive.google.com/file/d/1-XjtxqjZX-nHmmbteyMlXNPEOthy_PUf/view?usp=sharing).** The correct answers will be released at the end of this notebook once both of this weeks tutorials have finished. Only look at the solutions once you worked through the complete test. If you are stuck or have an incorrect answer, you can review the relevant material here:\n",
        "\n",
        "- [01--Colaboratory_and_Hello_World](https://drive.google.com/file/d/1Vv4BdqAq6MsHINPmcvEHSHUqtfpfXh-Q/view?usp=sharing)\n",
        "- [02--Variables_and_Types](https://drive.google.com/file/d/1NnjBmLU4e-lpLMKylL-ObgNjhVhQ-WiM/view?usp=sharing)\n",
        "- [03--Lists](https://drive.google.com/file/d/1HRgnhFapLAmc--2MxBy5dJu1zSVwSgtN/view?usp=sharing)\n",
        "- [04--Basic_Operators](https://drive.google.com/file/d/1gTN6z_tC8Jm5qlozlx3QshkCqT--jFDu/view?usp=sharing)\n",
        "- [05--String_formatting](https://drive.google.com/file/d/1Jt6cCzoCpIKuR_LrNE01JPeReZzvNlAs/view?usp=sharing)\n",
        "- [06--Basic_String_Operations](https://drive.google.com/file/d/16BVdmbkyucmGGpzjB7ujTPpdqE7wbY4J/view?usp=sharing)\n",
        "- [07--Conditions](https://drive.google.com/file/d/11BZPTfnkQ4h2MDjgyzaArEpQivCfxBAv/view?usp=sharing)\n",
        "- [08--Loops](https://drive.google.com/file/d/10GKCUZF9SJvbK8M4ba-aplltxChRcbvi/view?usp=sharing)\n",
        "- [09--Functions](https://drive.google.com/file/d/19Oql8o8i1cUX1d20iyAtbJZPKWts5hI8/view?usp=sharing)\n",
        "- [10--Classes_and_Objects](https://drive.google.com/file/d/1J4mUPOzkPCS-s2N9n68iXwRHI1cyU0P0/view?usp=sharing)\n",
        "\n"
      ],
      "metadata": {
        "id": "XxwwJR7o5Yp0"
      }
    },
    {
      "cell_type": "markdown",
      "source": [
        "## Numpy: Basic vector operations"
      ],
      "metadata": {
        "id": "-ID_vRDx7qVX"
      }
    },
    {
      "cell_type": "markdown",
      "source": [
        "The core Python interpreter itself is **not well suited for complex scientific computing calculations**. The missing feature is a fast array container to store vectors and matrices, and to perform operations on it. This is provided by the [Numpy](https://numpy.org/) extension module. Together with [Scipy](https://scipy.org/) and [Matplotlib](https://matplotlib.org/) it turns Python into a very powerful system for complex numerical calculations.\n",
        "\n",
        "In the following we introduce basic vector manipulations with Numpy.\n",
        "\n",
        "To make Numpy available you have to import it into the Python environment. This can be done for example by executing the command"
      ],
      "metadata": {
        "id": "iRbr2vcD7-RS"
      }
    },
    {
      "cell_type": "code",
      "source": [
        "import numpy as np"
      ],
      "metadata": {
        "id": "QoLo234u8hRf"
      },
      "execution_count": null,
      "outputs": []
    },
    {
      "cell_type": "markdown",
      "source": [
        "There are different ways of accessing Python functions in external modules. For a complete description of how modules work see https://docs.python.org/3/tutorial/modules.html."
      ],
      "metadata": {
        "id": "Y-nUUayp8rE9"
      }
    },
    {
      "cell_type": "markdown",
      "source": [
        "We can now define a first array. Use"
      ],
      "metadata": {
        "id": "sAbYLnKc8ypK"
      }
    },
    {
      "cell_type": "code",
      "source": [
        "a = np.array([1,2,3])\n",
        "a"
      ],
      "metadata": {
        "id": "YgB2wDQq8qy2"
      },
      "execution_count": null,
      "outputs": []
    },
    {
      "cell_type": "markdown",
      "source": [
        "to define the array `[1, 2, 3]`. Alternatively, you can define an array using the arrange function from Numpy."
      ],
      "metadata": {
        "id": "d0jZXmcQ84OW"
      }
    },
    {
      "cell_type": "code",
      "source": [
        "b = np.arange(4,7)\n",
        "b"
      ],
      "metadata": {
        "id": "TDX1Q83W88vU"
      },
      "execution_count": null,
      "outputs": []
    },
    {
      "cell_type": "markdown",
      "source": [
        "creates an array containing the elements `[4, 5, 6]`.\n",
        "\n",
        "Use `help(np.array)` and `help(np.arange)` to familiarise yourself with these functions.\n",
        "\n",
        "Accessing single array elements is possible."
      ],
      "metadata": {
        "id": "cEi1S5Wg9AX0"
      }
    },
    {
      "cell_type": "code",
      "source": [
        "a[2]"
      ],
      "metadata": {
        "id": "Wc7ILeFW9OUu"
      },
      "execution_count": null,
      "outputs": []
    },
    {
      "cell_type": "markdown",
      "source": [
        "returns as output 3. We should remark here that Python counts elements in arrays starting from 0.\n",
        "\n",
        "Hence, `a[2]` is accessing the third element in the array. What happens if you type `a[3]`?\n",
        "\n",
        "A powerful way of accessing arrays is slicing. To access the first 2 elements you can use"
      ],
      "metadata": {
        "id": "u2OKeL6s9RJl"
      }
    },
    {
      "cell_type": "code",
      "source": [
        "a[:2]"
      ],
      "metadata": {
        "id": "QRWOnJD59bJ4"
      },
      "execution_count": null,
      "outputs": []
    },
    {
      "cell_type": "markdown",
      "source": [
        "To access the last elements just say"
      ],
      "metadata": {
        "id": "kWkOpUIU9soi"
      }
    },
    {
      "cell_type": "code",
      "source": [
        "a[-1]"
      ],
      "metadata": {
        "id": "uvRU0gD99wb_"
      },
      "execution_count": null,
      "outputs": []
    },
    {
      "cell_type": "markdown",
      "source": [
        "A good overview of Python slices is given in the first answer to the the question at http://stackoverflow.com/questions/509211/the-python-slice-notation.\n",
        "\n",
        "To add the vectors `a` and `b` simply say"
      ],
      "metadata": {
        "id": "pVez-EmJ9yy8"
      }
    },
    {
      "cell_type": "code",
      "source": [
        "a + b"
      ],
      "metadata": {
        "id": "-J-QR-jw96L4"
      },
      "execution_count": null,
      "outputs": []
    },
    {
      "cell_type": "markdown",
      "source": [
        "Try out `a - b`, `a * b` and `a / b`. What are these operations doing? In order to obtain a true floating point\n",
        "division `a / b` you have two options. Either explicitly define one of the two arrays to be of a floating\n",
        "point type (see `help(np.array)` and `help(np.arange)` to learn how this is done) or type"
      ],
      "metadata": {
        "id": "ijF1dz-H98t2"
      }
    },
    {
      "cell_type": "code",
      "source": [
        "1.0 * a / b"
      ],
      "metadata": {
        "id": "j5lUggN498bs"
      },
      "execution_count": null,
      "outputs": []
    },
    {
      "cell_type": "markdown",
      "source": [
        "Multiplication with a floating point number converts a into floating point representation, and then\n",
        "the division is a true floating point division."
      ],
      "metadata": {
        "id": "phpZKtnl-KKn"
      }
    },
    {
      "cell_type": "markdown",
      "source": [
        "## Defining matrices"
      ],
      "metadata": {
        "id": "lu7TBHmZ-N6u"
      }
    },
    {
      "cell_type": "markdown",
      "source": [
        "To define the matrix\n",
        "$$\n",
        "A =\n",
        "\\begin{pmatrix}\n",
        "1 & 2\\\\ 3 & 4\n",
        "\\end{pmatrix}\n",
        "$$\n",
        "you can use the command"
      ],
      "metadata": {
        "id": "1XmLD4-v-QbQ"
      }
    },
    {
      "cell_type": "code",
      "source": [
        "A = np.array([[1, 2],[3, 4]])\n",
        "A"
      ],
      "metadata": {
        "id": "elAAZvln-aax"
      },
      "execution_count": null,
      "outputs": []
    },
    {
      "cell_type": "markdown",
      "source": [
        "The element (0, 0) is accessed by"
      ],
      "metadata": {
        "id": "oWdPgCaH-d-w"
      }
    },
    {
      "cell_type": "code",
      "source": [
        "A[0,0]"
      ],
      "metadata": {
        "id": "WwuTMG1C-gZW"
      },
      "execution_count": null,
      "outputs": []
    },
    {
      "cell_type": "markdown",
      "source": [
        "To access the first column use `A[:,0]` and to access the first row use `A[0,:]`. To assign the array\n",
        "`[2, 2]` to the first row you use"
      ],
      "metadata": {
        "id": "G7kl5uCQ-qEJ"
      }
    },
    {
      "cell_type": "code",
      "source": [
        "A[0,:] = [2,2]\n",
        "A"
      ],
      "metadata": {
        "id": "xntBurtx-vQk"
      },
      "execution_count": null,
      "outputs": []
    },
    {
      "cell_type": "markdown",
      "source": [
        "## Matrix operations"
      ],
      "metadata": {
        "id": "PVghGjic-xWv"
      }
    },
    {
      "cell_type": "markdown",
      "source": [
        "Define the matrix $B$ by"
      ],
      "metadata": {
        "id": "r56G1eO4_GIi"
      }
    },
    {
      "cell_type": "code",
      "source": [
        "B = np.array([[4, 5],[3, 2]])\n",
        "B"
      ],
      "metadata": {
        "id": "Akv4Z1nb_K_w"
      },
      "execution_count": null,
      "outputs": []
    },
    {
      "cell_type": "markdown",
      "source": [
        "Componentwise operations are defined as in the vector case. In particular, if $A$ and $B$ are matrices,\n",
        "the operation"
      ],
      "metadata": {
        "id": "0KbQ17Oo-1DL"
      }
    },
    {
      "cell_type": "code",
      "source": [
        "A * B"
      ],
      "metadata": {
        "id": "jIypkckW-4QS"
      },
      "execution_count": null,
      "outputs": []
    },
    {
      "cell_type": "markdown",
      "source": [
        "is a **componentwise** multiplication.\n",
        "\n",
        "Operations also work with complex numbers."
      ],
      "metadata": {
        "id": "5MiKArP1AHkD"
      }
    },
    {
      "cell_type": "code",
      "source": [
        "Ac = np.array([[1,2,3],[2,3,4],[4,5,6]], dtype=float)\n",
        "Bc = np.array([[1,3,5],[2,1,4],[1,8,9]], dtype=complex)\n",
        "Cc = Ac * Bc\n",
        "Cc"
      ],
      "metadata": {
        "id": "7EnV1_fD_9eI"
      },
      "execution_count": null,
      "outputs": []
    },
    {
      "cell_type": "markdown",
      "source": [
        "True matrix-matrix products are defined via the `dot` function. The matrix-matrix product $C = A B$ is performed as"
      ],
      "metadata": {
        "id": "SaIfyYU_-8Zy"
      }
    },
    {
      "cell_type": "code",
      "source": [
        "C = np.dot(A, B)\n",
        "C"
      ],
      "metadata": {
        "id": "MA4Z92IS_dFB"
      },
      "execution_count": null,
      "outputs": []
    },
    {
      "cell_type": "markdown",
      "source": [
        "Matrix-vector products and vector-vector products are similarly done using the dot function. Try this\n",
        "out."
      ],
      "metadata": {
        "id": "kaMppmgC_fzu"
      }
    },
    {
      "cell_type": "code",
      "source": [
        "x = [2, 3]\n",
        "Ax = np.dot(A, x)\n",
        "Ax"
      ],
      "metadata": {
        "id": "oNeLyio3BOTC"
      },
      "execution_count": null,
      "outputs": []
    },
    {
      "cell_type": "markdown",
      "source": [
        "An alternative notation is given by the `@` symbol."
      ],
      "metadata": {
        "id": "PLbEC-wjBXLA"
      }
    },
    {
      "cell_type": "code",
      "source": [
        "AB = A@B\n",
        "AB"
      ],
      "metadata": {
        "id": "a34FEW5yBbH_"
      },
      "execution_count": null,
      "outputs": []
    },
    {
      "cell_type": "code",
      "source": [
        "Ax = A@x\n",
        "Ax"
      ],
      "metadata": {
        "id": "flDDoWtVBfGe"
      },
      "execution_count": null,
      "outputs": []
    },
    {
      "cell_type": "markdown",
      "source": [
        "## Useful matrix and vector generators"
      ],
      "metadata": {
        "id": "bU_relaqAVQ1"
      }
    },
    {
      "cell_type": "markdown",
      "source": [
        "The following commands are convenient to generate frequently used arrays:"
      ],
      "metadata": {
        "id": "G8MMJCi7AZF7"
      }
    },
    {
      "cell_type": "code",
      "source": [
        "zero_A = np.zeros((3,3))\n",
        "zero_A"
      ],
      "metadata": {
        "id": "z5_VKqHNAqcy"
      },
      "execution_count": null,
      "outputs": []
    },
    {
      "cell_type": "code",
      "source": [
        "one_A = np.ones((3,3))\n",
        "one_A"
      ],
      "metadata": {
        "id": "K5I-WT1PAuBr"
      },
      "execution_count": null,
      "outputs": []
    },
    {
      "cell_type": "code",
      "source": [
        "identity_A = np.eye(3)\n",
        "identity_A"
      ],
      "metadata": {
        "id": "Bk84L_9cA6HC"
      },
      "execution_count": null,
      "outputs": []
    },
    {
      "cell_type": "code",
      "source": [
        "lin_A = np.linspace(1., 4., 10)\n",
        "lin_A"
      ],
      "metadata": {
        "id": "qpa3EabEA4mA"
      },
      "execution_count": null,
      "outputs": []
    },
    {
      "cell_type": "code",
      "source": [
        "Alist = [[1,2],[2,3]]\n",
        "Blist = [[3,0],[1,7]]\n",
        "\n",
        "Anp = np.array(Alist)\n",
        "Bnp = np.array(Blist)\n",
        "Anp * Bnp"
      ],
      "metadata": {
        "id": "wHjO7Xn5BEa7"
      },
      "execution_count": null,
      "outputs": []
    },
    {
      "cell_type": "markdown",
      "source": [
        "## Solutions"
      ],
      "metadata": {
        "id": "Ott-AEypMMVq"
      }
    },
    {
      "cell_type": "markdown",
      "source": [
        "Only open the solutions after attemping the entire test. The link will be restricted until the both tutorials have finished.\n",
        "\n",
        "[00--Python--Solutions--01-10](https://drive.google.com/file/d/1JM6o3UAo3v-N6gAlz5dgTCMbNSBfVOe5/view?usp=sharing)"
      ],
      "metadata": {
        "id": "Zb7CJhwqMNyW"
      }
    }
  ]
}